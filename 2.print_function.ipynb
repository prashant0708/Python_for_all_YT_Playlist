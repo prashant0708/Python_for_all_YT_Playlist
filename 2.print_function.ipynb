{
 "cells": [
  {
   "cell_type": "markdown",
   "id": "9e03de74",
   "metadata": {},
   "source": [
    "## Print Function"
   ]
  },
  {
   "cell_type": "code",
   "execution_count": 2,
   "id": "40a8eda0",
   "metadata": {},
   "outputs": [],
   "source": [
    "name = \"Prashant Singh\"\n",
    "description = \"I am Youtuber and I create educational video\"\n",
    "address = \"Red Fort Delhi\"\n",
    "nationality = \"Indian\""
   ]
  },
  {
   "cell_type": "code",
   "execution_count": null,
   "id": "572b6d7b",
   "metadata": {},
   "outputs": [
    {
     "name": "stdout",
     "output_type": "stream",
     "text": [
      "Prashant Singh\n",
      "I am Youtuber and I create educational video\n",
      "Red Fort Delhi\n",
      "Indian\n"
     ]
    }
   ],
   "source": [
    "print(name)\n",
    "print(description)\n",
    "print(address)\n",
    "print(nationality)"
   ]
  },
  {
   "cell_type": "code",
   "execution_count": 7,
   "id": "35fc9edf",
   "metadata": {},
   "outputs": [
    {
     "name": "stdout",
     "output_type": "stream",
     "text": [
      "Prashant Singh\n",
      "\n",
      "\n",
      "I am Youtuber and I create educational video\n",
      "\n",
      "\n",
      "Red Fort Delhi\n",
      "\n",
      "\n",
      "Indian\n"
     ]
    }
   ],
   "source": [
    "print(name)\n",
    "print(\"\\n\")\n",
    "print(description)\n",
    "print(\"\\n\")\n",
    "print(address)\n",
    "print(\"\\n\")\n",
    "print(nationality)"
   ]
  },
  {
   "cell_type": "code",
   "execution_count": 12,
   "id": "da362d9b",
   "metadata": {},
   "outputs": [
    {
     "name": "stdout",
     "output_type": "stream",
     "text": [
      "Prashant Singh $%I am Youtuber and I create educational video Red Fort Delhi Indian\n"
     ]
    }
   ],
   "source": [
    "print(name , end =\" $%\")\n",
    "print(description, end= \" \")\n",
    "print(address,end=\" \")\n",
    "print(nationality)"
   ]
  },
  {
   "cell_type": "code",
   "execution_count": 13,
   "id": "573b73ac",
   "metadata": {},
   "outputs": [],
   "source": [
    "name = \"Prashant Singh\"\n",
    "description = \"I am Youtuber and I create educational video\"\n",
    "address = \"Red Fort Delhi\"\n",
    "nationality = \"Indian\""
   ]
  },
  {
   "cell_type": "code",
   "execution_count": 17,
   "id": "210e9062",
   "metadata": {},
   "outputs": [
    {
     "name": "stdout",
     "output_type": "stream",
     "text": [
      "Prashant Singh &&&& I am Youtuber and I create educational video &&&& Red Fort Delhi &&&& Indian\n"
     ]
    }
   ],
   "source": [
    "print(name,description,address,nationality,sep =\" &&&& \")"
   ]
  },
  {
   "cell_type": "markdown",
   "id": "e239642f",
   "metadata": {},
   "source": [
    "print by defalut use end=\"\\n\"\n",
    "end = \" \"\n",
    "\n",
    "if you want to print all the varibale into one line \n",
    "\n",
    "if you want to use only one print for all the variable \n",
    "print(v1,v2,v3...vn,sep =\" %%% \")\n",
    "\n",
    "\n",
    "print(v1)\n",
    "print(\"\\n)\n",
    "print(v2)"
   ]
  },
  {
   "cell_type": "code",
   "execution_count": 25,
   "id": "c1fbe00c",
   "metadata": {},
   "outputs": [],
   "source": [
    "name = \"Prashant Singh\"\n",
    "description = \"I am Youtuber and I create educational video\"\n",
    "address = \"Red Fort Delhi\"\n",
    "nationality = \"Indian\"\n",
    "age = \"70\""
   ]
  },
  {
   "cell_type": "code",
   "execution_count": null,
   "id": "0a8201bb",
   "metadata": {},
   "outputs": [
    {
     "name": "stdout",
     "output_type": "stream",
     "text": [
      "My name is Prashant Singh I work as I am Youtuber and I create educational video i live in Red Fort Delhi I am Indian\n"
     ]
    }
   ],
   "source": [
    "print(\"My name is \" + name + \" I work as \" +description+ \" i live in \" +address+ \" I am \" +nationality)"
   ]
  },
  {
   "cell_type": "code",
   "execution_count": null,
   "id": "da1d9e94",
   "metadata": {},
   "outputs": [
    {
     "name": "stdout",
     "output_type": "stream",
     "text": [
      "My name is Prashant Singh I work as I am Youtuber and I create educational video i live in Red Fort Delhi I am IndianI am 70year old\n"
     ]
    }
   ],
   "source": [
    "print(\"My name is \" + name + \" I work as \" +description+ \" i live in \" +address+ \" I am \" +nationality + \"I am \" +age +\" year old\")"
   ]
  },
  {
   "cell_type": "code",
   "execution_count": 26,
   "id": "00f5d05d",
   "metadata": {},
   "outputs": [],
   "source": [
    "employee = \"Bob\"\n",
    "\n",
    "emp_id = 1256\n",
    "\n",
    "salary = 70000\n",
    "Company = \"Google\""
   ]
  },
  {
   "cell_type": "code",
   "execution_count": 30,
   "id": "9f5e1274",
   "metadata": {},
   "outputs": [
    {
     "name": "stdout",
     "output_type": "stream",
     "text": [
      "Bob is working in Google and his emp_id is 1256 and his salary is 70000 \n"
     ]
    }
   ],
   "source": [
    "#Bob is working in Google and his emp_id is 1256 and his salary is 70000\n",
    "\n",
    "\n",
    "# f sting \n",
    "print(f\"{employee} is working in {Company} and his emp_id is {emp_id} and his salary is {salary} \")"
   ]
  },
  {
   "cell_type": "code",
   "execution_count": null,
   "id": "e8a0d7fc",
   "metadata": {},
   "outputs": [
    {
     "name": "stdout",
     "output_type": "stream",
     "text": [
      "Bob is working in Google and his emp_id is 1256 and his salary is 70000\n"
     ]
    }
   ],
   "source": [
    "## format\n",
    "\n",
    "print(\"{} is working in {} and his emp_id is {} and his salary is {}\".format(employee,Company,emp_id,salary))"
   ]
  },
  {
   "cell_type": "code",
   "execution_count": 39,
   "id": "f41bc0ba",
   "metadata": {},
   "outputs": [
    {
     "name": "stdout",
     "output_type": "stream",
     "text": [
      "Bob is working in Google and his emp_id is 1256 and his salary is 70000\n"
     ]
    }
   ],
   "source": [
    "## format with index \n",
    "\n",
    "print(\"{a} is working in {b} and his emp_id is {c} and his salary is {d}\".format(a=employee,b=Company,c=emp_id,d=salary))"
   ]
  },
  {
   "cell_type": "code",
   "execution_count": 45,
   "id": "a38b5b1d",
   "metadata": {},
   "outputs": [
    {
     "name": "stdout",
     "output_type": "stream",
     "text": [
      " Bob is working in Google  and his emp_id is 1256  and his salary is  70000 \n"
     ]
    }
   ],
   "source": [
    "## % string format\n",
    "\n",
    "print(\" %s is working in %s  and his emp_id is %s  and his salary is  %s \"%(employee,Company,emp_id,salary))\n"
   ]
  },
  {
   "cell_type": "markdown",
   "id": "ee33bd15",
   "metadata": {},
   "source": [
    "1. f - string\n",
    "2. fomat\n",
    "3. format index\n",
    "4. % string format"
   ]
  }
 ],
 "metadata": {
  "kernelspec": {
   "display_name": "base",
   "language": "python",
   "name": "python3"
  },
  "language_info": {
   "name": "python",
   "version": "3.12.7"
  }
 },
 "nbformat": 4,
 "nbformat_minor": 5
}
