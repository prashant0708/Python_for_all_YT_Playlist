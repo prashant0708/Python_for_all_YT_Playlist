{
 "cells": [
  {
   "cell_type": "code",
   "execution_count": 1,
   "id": "208f1966",
   "metadata": {},
   "outputs": [
    {
     "name": "stdout",
     "output_type": "stream",
     "text": [
      "Addition of 45 and 100 is 145\n"
     ]
    }
   ],
   "source": [
    "### write a python code to add two number \n",
    "\n",
    "num1 = 45\n",
    "num2 =100\n",
    "\n",
    "result = num1+num2\n",
    "print(f\"Addition of {num1} and {num2} is {result}\")"
   ]
  },
  {
   "cell_type": "code",
   "execution_count": 2,
   "id": "9e002d4c",
   "metadata": {},
   "outputs": [
    {
     "name": "stdout",
     "output_type": "stream",
     "text": [
      "Addition of 25 and 25 is 2525\n"
     ]
    }
   ],
   "source": [
    "## input function \n",
    "\n",
    "### write a python code to add two number \n",
    "\n",
    "num1 = input (\"Enter your first number  = \")\n",
    "num2 = input (\"Enter your second number= \")\n",
    "\n",
    "result = num1 +num2\n",
    "\n",
    "print(f\"Addition of {num1} and {num2} is {result}\")"
   ]
  },
  {
   "cell_type": "code",
   "execution_count": 3,
   "id": "2207704d",
   "metadata": {},
   "outputs": [
    {
     "name": "stdout",
     "output_type": "stream",
     "text": [
      "2525\n"
     ]
    }
   ],
   "source": [
    "num1 = \"25\"\n",
    "num2 = \"25\"\n",
    "result = num1+num2\n",
    "print(result)"
   ]
  },
  {
   "cell_type": "code",
   "execution_count": 4,
   "id": "401fb39c",
   "metadata": {},
   "outputs": [
    {
     "name": "stdout",
     "output_type": "stream",
     "text": [
      "PrashantSingh\n"
     ]
    }
   ],
   "source": [
    "num1 = \"Prashant\"\n",
    "num2 = \"Singh\"\n",
    "\n",
    "result = num1+num2\n",
    "print(result)"
   ]
  },
  {
   "cell_type": "code",
   "execution_count": 5,
   "id": "3964179b",
   "metadata": {},
   "outputs": [
    {
     "data": {
      "text/plain": [
       "(str, str)"
      ]
     },
     "execution_count": 5,
     "metadata": {},
     "output_type": "execute_result"
    }
   ],
   "source": [
    "num1 = \"25\"\n",
    "num2 = \"45\"\n",
    "\n",
    "type(num1), type(num2)"
   ]
  },
  {
   "cell_type": "code",
   "execution_count": 7,
   "id": "aa7bac4c",
   "metadata": {},
   "outputs": [
    {
     "name": "stdout",
     "output_type": "stream",
     "text": [
      "70\n"
     ]
    },
    {
     "data": {
      "text/plain": [
       "(int, int)"
      ]
     },
     "execution_count": 7,
     "metadata": {},
     "output_type": "execute_result"
    }
   ],
   "source": [
    "## type cast\n",
    "num1 = \"25\"\n",
    "num2 = \"45\"\n",
    "num1 = int(num1)\n",
    "num2 = int(num2)\n",
    "\n",
    "result = num1+num2\n",
    "print(result)\n",
    "\n",
    "type(num1), type(num2)"
   ]
  },
  {
   "cell_type": "code",
   "execution_count": 8,
   "id": "6df7b5a7",
   "metadata": {},
   "outputs": [
    {
     "ename": "ValueError",
     "evalue": "invalid literal for int() with base 10: 'Prashant'",
     "output_type": "error",
     "traceback": [
      "\u001b[1;31m---------------------------------------------------------------------------\u001b[0m",
      "\u001b[1;31mValueError\u001b[0m                                Traceback (most recent call last)",
      "Cell \u001b[1;32mIn[8], line 4\u001b[0m\n\u001b[0;32m      1\u001b[0m num1 \u001b[38;5;241m=\u001b[39m \u001b[38;5;124m\"\u001b[39m\u001b[38;5;124mPrashant\u001b[39m\u001b[38;5;124m\"\u001b[39m\n\u001b[0;32m      2\u001b[0m num2 \u001b[38;5;241m=\u001b[39m \u001b[38;5;124m\"\u001b[39m\u001b[38;5;124mSingh\u001b[39m\u001b[38;5;124m\"\u001b[39m\n\u001b[1;32m----> 4\u001b[0m num1 \u001b[38;5;241m=\u001b[39m \u001b[38;5;28;43mint\u001b[39;49m\u001b[43m(\u001b[49m\u001b[43mnum1\u001b[49m\u001b[43m)\u001b[49m\n\u001b[0;32m      5\u001b[0m num2 \u001b[38;5;241m=\u001b[39m \u001b[38;5;28mint\u001b[39m(num2)\n\u001b[0;32m      6\u001b[0m \u001b[38;5;28mtype\u001b[39m(num1), \u001b[38;5;28mtype\u001b[39m(num2)\n",
      "\u001b[1;31mValueError\u001b[0m: invalid literal for int() with base 10: 'Prashant'"
     ]
    }
   ],
   "source": [
    "num1 = \"Prashant\"\n",
    "num2 = \"Singh\"\n",
    "\n",
    "num1 = int(num1)\n",
    "num2 = int(num2)\n",
    "type(num1), type(num2)\n",
    "\n",
    "result = num1+num2\n",
    "print(result)"
   ]
  },
  {
   "cell_type": "code",
   "execution_count": 9,
   "id": "3191257f",
   "metadata": {},
   "outputs": [
    {
     "name": "stdout",
     "output_type": "stream",
     "text": [
      "70.0\n"
     ]
    },
    {
     "data": {
      "text/plain": [
       "(float, float)"
      ]
     },
     "execution_count": 9,
     "metadata": {},
     "output_type": "execute_result"
    }
   ],
   "source": [
    "## type cast\n",
    "num1 = \"25\"\n",
    "num2 = \"45\"\n",
    "num1 = float(num1)\n",
    "num2 = float(num2)\n",
    "\n",
    "result = num1+num2\n",
    "print(result)\n",
    "\n",
    "type(num1), type(num2)"
   ]
  },
  {
   "cell_type": "code",
   "execution_count": 10,
   "id": "95f87e74",
   "metadata": {},
   "outputs": [
    {
     "name": "stdout",
     "output_type": "stream",
     "text": [
      "Addition of 500 and 100 is 600\n"
     ]
    }
   ],
   "source": [
    "## take two input in run time and sum it \n",
    "\n",
    "num1 = input (\"Enter the 1st Number = \")\n",
    "num2 = input (\"Enter the 2nd Number = \")\n",
    "num1 = int(num1)\n",
    "num2 = int(num2)\n",
    "\n",
    "result = num1+num2\n",
    "\n",
    "print(f\"Addition of {num1} and {num2} is {result}\")"
   ]
  },
  {
   "cell_type": "code",
   "execution_count": 12,
   "id": "09d940ed",
   "metadata": {},
   "outputs": [
    {
     "name": "stdout",
     "output_type": "stream",
     "text": [
      "Addition of 45.0 and 85.0 is 130.0\n"
     ]
    },
    {
     "data": {
      "text/plain": [
       "(float, float)"
      ]
     },
     "execution_count": 12,
     "metadata": {},
     "output_type": "execute_result"
    }
   ],
   "source": [
    "## take two input in run time and sum it \n",
    "\n",
    "num1 = float(input (\"Enter the 1st Number = \"))  ## \"500\" ## can chnage in float as well\n",
    "num2 = float(input (\"Enter the 2nd Number = \"))\n",
    "\n",
    "\n",
    "result = num1+num2\n",
    "\n",
    "print(f\"Addition of {num1} and {num2} is {result}\")\n",
    "type(num1), type(num2)"
   ]
  },
  {
   "cell_type": "code",
   "execution_count": 14,
   "id": "8f155d49",
   "metadata": {},
   "outputs": [
    {
     "name": "stdout",
     "output_type": "stream",
     "text": [
      "Subtraction of 100 and 77 is 23\n"
     ]
    }
   ],
   "source": [
    "### take two number is subtract it \n",
    "\n",
    "num1 = int(input(\"Enter your 1st input = \"))\n",
    "num2 = int(input (\"enter the second input = \"))\n",
    "\n",
    "result = num1 - num2\n",
    "print(f\"Subtraction of {num1} and {num2} is {result}\")"
   ]
  },
  {
   "cell_type": "code",
   "execution_count": 16,
   "id": "c6c7a5f1",
   "metadata": {},
   "outputs": [
    {
     "name": "stdout",
     "output_type": "stream",
     "text": [
      "Multiplication of 45 and 12 is 540\n"
     ]
    }
   ],
   "source": [
    "### take two number is multiply it \n",
    "\n",
    "num1 = int(input(\"Enter your 1st input = \"))\n",
    "num2 = int(input (\"enter the second input = \"))\n",
    "\n",
    "result = num1 * num2\n",
    "print(f\"Multiplication of {num1} and {num2} is {result}\")"
   ]
  },
  {
   "cell_type": "code",
   "execution_count": 18,
   "id": "345883b7",
   "metadata": {},
   "outputs": [
    {
     "name": "stdout",
     "output_type": "stream",
     "text": [
      "Float division of 45 and 2 is 22.5\n"
     ]
    }
   ],
   "source": [
    "## division\n",
    "\n",
    "### float division \n",
    "\n",
    "num1 = int(input(\"Enter your 1st input = \"))\n",
    "num2 = int(input (\"enter the second input = \"))\n",
    "\n",
    "\n",
    "result = num1/num2\n",
    "\n",
    "print(f\"Float division of {num1} and {num2} is {result}\")"
   ]
  },
  {
   "cell_type": "code",
   "execution_count": 20,
   "id": "ce066caa",
   "metadata": {},
   "outputs": [
    {
     "name": "stdout",
     "output_type": "stream",
     "text": [
      "floor division of 45 and 2 is 22\n"
     ]
    }
   ],
   "source": [
    "## floor division\n",
    "\n",
    "num1 = int(input(\"Enter your 1st input = \"))\n",
    "num2 = int(input (\"enter the second input = \"))\n",
    "\n",
    "\n",
    "result = num1//num2\n",
    "\n",
    "print(f\"floor division of {num1} and {num2} is {result}\")"
   ]
  },
  {
   "cell_type": "code",
   "execution_count": 24,
   "id": "86b7c9ac",
   "metadata": {},
   "outputs": [
    {
     "name": "stdout",
     "output_type": "stream",
     "text": [
      "reminder of   division of 44 and 2 is 0\n"
     ]
    }
   ],
   "source": [
    "##moduler division \n",
    "num1 = int(input(\"Enter your 1st input = \"))\n",
    "num2 = int(input (\"enter the second input = \"))\n",
    "\n",
    "\n",
    "result = num1%num2\n",
    "\n",
    "print(f\"reminder of   division of {num1} and {num2} is {result}\")\n"
   ]
  },
  {
   "cell_type": "markdown",
   "id": "c8c2e0c9",
   "metadata": {},
   "source": [
    "##divison \n",
    "\n",
    "three type of division \n",
    "1. Float Division ->> it divide till decimial points\n",
    "2. Floor Division  ->>> it return nearest whole number \n",
    "3. Moduler Division  ->> It return remainder.  \n",
    "\n"
   ]
  },
  {
   "cell_type": "code",
   "execution_count": 29,
   "id": "61c4342b",
   "metadata": {},
   "outputs": [
    {
     "name": "stdout",
     "output_type": "stream",
     "text": [
      "Square of 45 is 2025\n"
     ]
    }
   ],
   "source": [
    "## Power \n",
    "\n",
    "## find the square of 45   45^2  = 45x45 \n",
    "\n",
    "num1 = 45\n",
    "\n",
    "result = pow(num1,2)\n",
    "\n",
    "print(F\"Square of {num1} is {result }\")"
   ]
  },
  {
   "cell_type": "code",
   "execution_count": 31,
   "id": "ffcba9ee",
   "metadata": {},
   "outputs": [
    {
     "name": "stdout",
     "output_type": "stream",
     "text": [
      "Cube of 45 is 91125\n"
     ]
    }
   ],
   "source": [
    "## Power \n",
    "\n",
    "## find the cube  of 45   45^3  = 45x45x45\n",
    "\n",
    "num1 = 45\n",
    "\n",
    "result = pow(num1,3)\n",
    "\n",
    "print(F\"Cube of {num1} is {result }\") "
   ]
  },
  {
   "cell_type": "code",
   "execution_count": 32,
   "id": "54c69442",
   "metadata": {},
   "outputs": [
    {
     "name": "stdout",
     "output_type": "stream",
     "text": [
      "3025\n"
     ]
    }
   ],
   "source": [
    "## What is the (a+b)^2 if a= 10 and b = 45\n",
    "\n",
    "## (a+b)^2 = (a)^2+(b)^2 +2ab\n",
    "\n",
    "a = 10\n",
    "b =45\n",
    "\n",
    "result = pow(a,2)+pow(b,2)+2*a*b\n",
    "\n",
    "print(result)"
   ]
  },
  {
   "cell_type": "markdown",
   "id": "61633f3a",
   "metadata": {},
   "source": [
    "## Home Work"
   ]
  },
  {
   "cell_type": "markdown",
   "id": "87ca734f",
   "metadata": {},
   "source": [
    "### what is (a+b)^3 if a = 45.52 and b = 78.63\n",
    "### Find the area of square for edge of 25 cm \n",
    "### find the area of circle  and take radious as user input in run time\n",
    "## find the square root of 25 \n",
    "## convert the temperature from celsius to fehrenheit \n",
    "\n",
    "Formula is F = (c+9/5)+32\n",
    "\n",
    "## find the simple interest where P = 50000 , t= 3 and r = 18%\n",
    "\n",
    "## S.I = PXRXT/100\n",
    "\n"
   ]
  },
  {
   "cell_type": "code",
   "execution_count": 35,
   "id": "32bdbcc6",
   "metadata": {},
   "outputs": [
    {
     "data": {
      "image/png": "[encoded data removed]",
      "text/plain": [
       "<IPython.core.display.Image object>"
      ]
     },
     "execution_count": 35,
     "metadata": {},
     "output_type": "execute_result"
    }
   ],
   "source": [
    "## convert  temperate celsius to Fahrenheit\n",
    "from IPython.display import Image\n",
    "Image(r\"C:\\Users\\prash\\Pictures\\Screenshots\\Screenshot 2025-05-23 230515.png\")"
   ]
  },
  {
   "cell_type": "code",
   "execution_count": 34,
   "id": "4055e31e",
   "metadata": {},
   "outputs": [
    {
     "name": "stdout",
     "output_type": "stream",
     "text": [
      "Area of trangle of  base 13.56 and  height 26.56 is 3025\n"
     ]
    }
   ],
   "source": [
    "### find the are of triangle \n",
    "\n",
    "## area of triangle = 1/2*base* height\n",
    "\n",
    "base = float(input(\"Enter the base of triangle= \"))\n",
    "height = float(input(\"Enter the height of triangle= \"))\n",
    "area = 0.5*base*height\n",
    "\n",
    "print(f\"Area of trangle of  base {base} and  height {height} is {result}\")"
   ]
  },
  {
   "cell_type": "code",
   "execution_count": 1,
   "id": "602c31ef",
   "metadata": {},
   "outputs": [
    {
     "name": "stdout",
     "output_type": "stream",
     "text": [
      "1913551.5733750002\n"
     ]
    }
   ],
   "source": [
    "\n",
    "### what is (a+b)^3 if a = 45.52 and b = 78.63\n",
    "\n",
    "\n",
    "a = 45.52\n",
    "b = 78.63\n",
    "\n",
    "result = a+b\n",
    "result = pow(result,3)\n",
    "\n",
    "print(result)\n"
   ]
  },
  {
   "cell_type": "code",
   "execution_count": 2,
   "id": "f20f776f",
   "metadata": {},
   "outputs": [
    {
     "name": "stdout",
     "output_type": "stream",
     "text": [
      "Area of square of given side 25 is 625\n"
     ]
    }
   ],
   "source": [
    "### Find the area of square for edge of 25 cm \n",
    "\n",
    "a = 25 \n",
    "\n",
    "area = a*a\n",
    "print(f\"Area of square of given side {a} is {area}\")"
   ]
  },
  {
   "cell_type": "code",
   "execution_count": 4,
   "id": "2142a287",
   "metadata": {},
   "outputs": [
    {
     "name": "stdout",
     "output_type": "stream",
     "text": [
      "Area of circle of given radious 56.36 is 9974.05\n"
     ]
    }
   ],
   "source": [
    "### find the area of circle  and take radious as user input in run time\n",
    "\n",
    "radious = float (input(\"Enter the radious of Circle =  \"))\n",
    "\n",
    "area = round(3.14*pow(radious,2),2)\n",
    "\n",
    "result = f\"Area of circle of given radious {radious} is {area}\"\n",
    "print(result)\n",
    "\n"
   ]
  },
  {
   "cell_type": "code",
   "execution_count": 5,
   "id": "4314bbe9",
   "metadata": {},
   "outputs": [
    {
     "data": {
      "text/plain": [
       "123.57"
      ]
     },
     "execution_count": 5,
     "metadata": {},
     "output_type": "execute_result"
    }
   ],
   "source": [
    "num1 = 123.5689\n",
    "\n",
    "round(num1,2)"
   ]
  },
  {
   "cell_type": "code",
   "execution_count": 6,
   "id": "ca2a2697",
   "metadata": {},
   "outputs": [
    {
     "name": "stdout",
     "output_type": "stream",
     "text": [
      "5.0\n"
     ]
    }
   ],
   "source": [
    "### find the square root of 25 \n",
    "\n",
    "a = 25\n",
    "\n",
    "result = pow(a,0.5)\n",
    "\n",
    "print(result)"
   ]
  },
  {
   "cell_type": "code",
   "execution_count": 8,
   "id": "8d7ff845",
   "metadata": {},
   "outputs": [
    {
     "name": "stdout",
     "output_type": "stream",
     "text": [
      "Temp in fehrenheit is 89.6 \n"
     ]
    }
   ],
   "source": [
    "## convert the temperature from celsius to fehrenheit \n",
    "\n",
    "## Formula is F = (c+9/5)+32\n",
    "\n",
    "temp = 32.0\n",
    "\n",
    "result = (temp*(9/5) )+32\n",
    "\n",
    "print(f\"Temp in fehrenheit is {result} \")\n",
    "\n"
   ]
  },
  {
   "cell_type": "code",
   "execution_count": 9,
   "id": "c6733e40",
   "metadata": {},
   "outputs": [
    {
     "name": "stdout",
     "output_type": "stream",
     "text": [
      "27000.0\n"
     ]
    }
   ],
   "source": [
    "## find the simple interest where P = 50000 , t= 3 and r = 18%\n",
    "\n",
    "## S.I = PXRXT/100\n",
    "\n",
    "\n",
    "p = 50000\n",
    "t = 3\n",
    "r = 18 \n",
    "\n",
    "si = (p*r*t)/100\n",
    "print(si)\n",
    " "
   ]
  },
  {
   "cell_type": "code",
   "execution_count": null,
   "id": "1c4f5275",
   "metadata": {},
   "outputs": [],
   "source": []
  }
 ],
 "metadata": {
  "kernelspec": {
   "display_name": "base",
   "language": "python",
   "name": "python3"
  },
  "language_info": {
   "codemirror_mode": {
    "name": "ipython",
    "version": 3
   },
   "file_extension": ".py",
   "mimetype": "text/x-python",
   "name": "python",
   "nbconvert_exporter": "python",
   "pygments_lexer": "ipython3",
   "version": "3.12.7"
  }
 },
 "nbformat": 4,
 "nbformat_minor": 5
}
