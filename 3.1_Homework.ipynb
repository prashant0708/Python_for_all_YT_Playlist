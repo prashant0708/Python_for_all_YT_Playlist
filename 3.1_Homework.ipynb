{
 "cells": [
  {
   "cell_type": "markdown",
   "id": "6b129bd4",
   "metadata": {},
   "source": [
    "### what is (a+b)^3 if a = 45.52 and b = 78.63\n",
    "### Find the area of square for edge of 25 cm \n",
    "### find the area of circle  and take radious as user input in run time\n",
    "## find the square root of 25 \n",
    "## convert the temperature from celsius to fehrenheit \n",
    "\n",
    "Formula is F = (c+9/5)+32\n",
    "\n",
    "## find the simple interest where P = 50000 , t= 3 and r = 18%\n",
    "\n",
    "## S.I = PXRXT/100"
   ]
  },
  {
   "cell_type": "code",
   "execution_count": 14,
   "id": "626ecff5",
   "metadata": {},
   "outputs": [
    {
     "name": "stdout",
     "output_type": "stream",
     "text": [
      "45.52 and 78.63 whole cube is 1913551.57\n"
     ]
    }
   ],
   "source": [
    "### what is (a+b)^3 if a = 45.52 and b = 78.63\n",
    "\n",
    "a , b = 45.52, 78.63\n",
    "\n",
    "result = a+b\n",
    "result1= round(pow(result,3),2)\n",
    "\n",
    "print(f\"{a} and {b} whole cube is {result1}\")"
   ]
  },
  {
   "cell_type": "code",
   "execution_count": 11,
   "id": "4d15c5d7",
   "metadata": {},
   "outputs": [
    {
     "data": {
      "text/plain": [
       "45.52"
      ]
     },
     "execution_count": 11,
     "metadata": {},
     "output_type": "execute_result"
    }
   ],
   "source": [
    "a"
   ]
  },
  {
   "cell_type": "code",
   "execution_count": 12,
   "id": "f4848a9b",
   "metadata": {},
   "outputs": [
    {
     "data": {
      "text/plain": [
       "78.63"
      ]
     },
     "execution_count": 12,
     "metadata": {},
     "output_type": "execute_result"
    }
   ],
   "source": [
    "b"
   ]
  },
  {
   "cell_type": "code",
   "execution_count": 15,
   "id": "c922c87d",
   "metadata": {},
   "outputs": [
    {
     "name": "stdout",
     "output_type": "stream",
     "text": [
      "Area of square for edge 25 is 625\n"
     ]
    }
   ],
   "source": [
    "### Find the area of square for edge of 25 cm \n",
    "\n",
    "a = 25\n",
    "\n",
    "area = a*a\n",
    "\n",
    "print(f\"Area of square for edge {a} is {area}\")"
   ]
  },
  {
   "cell_type": "code",
   "execution_count": 18,
   "id": "fc61d062",
   "metadata": {},
   "outputs": [
    {
     "name": "stdout",
     "output_type": "stream",
     "text": [
      "Area of circle for radious 12.25 is 471.196\n"
     ]
    }
   ],
   "source": [
    "### find the area of circle  and take radious as user input in run time\n",
    "\n",
    "r = float(input(\"Enter the radious of circle= \"))\n",
    "\n",
    "area = 3.14*pow(r,2)\n",
    "\n",
    "area = round(area,3)\n",
    "print(f\"Area of circle for radious {r} is {area}\")"
   ]
  },
  {
   "cell_type": "code",
   "execution_count": 19,
   "id": "38899b4d",
   "metadata": {},
   "outputs": [
    {
     "name": "stdout",
     "output_type": "stream",
     "text": [
      "Square root of 25 is 5.0\n"
     ]
    }
   ],
   "source": [
    "## find the square root of 25\n",
    "\n",
    "a = 25\n",
    "result = pow(25,0.5)\n",
    "\n",
    "print(f\"Square root of {a} is {result}\")"
   ]
  },
  {
   "cell_type": "code",
   "execution_count": 21,
   "id": "64e487bd",
   "metadata": {},
   "outputs": [
    {
     "name": "stdout",
     "output_type": "stream",
     "text": [
      "Temp of 32.0 in fehrenheit is 89.6\n"
     ]
    }
   ],
   "source": [
    "## convert the temperature from celsius to fehrenheit \n",
    "\n",
    "#Formula is F = (c*9/5)+32\n",
    "\n",
    "temp = float(input (\"Enter the Temperature = \"))\n",
    "\n",
    "F = (temp*(9/5))+32\n",
    "\n",
    "print( f\"Temp of {temp} in fehrenheit is {F}\")\n",
    "\n"
   ]
  },
  {
   "cell_type": "code",
   "execution_count": 22,
   "id": "6d5f59a2",
   "metadata": {},
   "outputs": [
    {
     "name": "stdout",
     "output_type": "stream",
     "text": [
      "Interest of 50000 for given 3 and rate 18 is 27000.0\n"
     ]
    }
   ],
   "source": [
    "## find the simple interest where P = 50000 , t= 3 and r = 18%\n",
    "\n",
    "## S.I = PXRXT/100\n",
    "\n",
    "p= 50000\n",
    "t= 3\n",
    "r = 18\n",
    "\n",
    "interest = (p*r*t)/100\n",
    "\n",
    "print(f\"Interest of {p} for given {t} and rate {r} is {interest}\")"
   ]
  },
  {
   "cell_type": "code",
   "execution_count": null,
   "id": "3ffdd376",
   "metadata": {},
   "outputs": [],
   "source": []
  }
 ],
 "metadata": {
  "kernelspec": {
   "display_name": "base",
   "language": "python",
   "name": "python3"
  },
  "language_info": {
   "codemirror_mode": {
    "name": "ipython",
    "version": 3
   },
   "file_extension": ".py",
   "mimetype": "text/x-python",
   "name": "python",
   "nbconvert_exporter": "python",
   "pygments_lexer": "ipython3",
   "version": "3.12.7"
  }
 },
 "nbformat": 4,
 "nbformat_minor": 5
}
