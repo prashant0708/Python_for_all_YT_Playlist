{
 "cells": [
  {
   "cell_type": "code",
   "execution_count": 4,
   "id": "da09aa3b",
   "metadata": {},
   "outputs": [
    {
     "name": "stdout",
     "output_type": "stream",
     "text": [
      "ypou are not eligable to cast vote\n"
     ]
    }
   ],
   "source": [
    "## check the age to cast the vote!\n",
    "age = int(input(\"Enter your age = \"))\n",
    "\n",
    "if age >=18:\n",
    "    print(\"You are eligable to cast vote\")\n",
    "else:\n",
    "    print(\"ypou are not eligable to cast vote\")\n",
    "    \n",
    "\n",
    "\n",
    "\n"
   ]
  },
  {
   "cell_type": "code",
   "execution_count": 8,
   "id": "47078e3a",
   "metadata": {},
   "outputs": [
    {
     "name": "stdout",
     "output_type": "stream",
     "text": [
      "-1 is not greater then zero\n"
     ]
    }
   ],
   "source": [
    "\n",
    "## check the number is greater then 0 or not \n",
    "\n",
    "number = int(input(\"enter the number= \"))\n",
    "\n",
    "if number >0:\n",
    "    print(f\"{number} is greater then zero\")\n",
    "else:\n",
    "    print(f\"{number} is not greater then zero\")"
   ]
  },
  {
   "cell_type": "code",
   "execution_count": 15,
   "id": "5c599deb",
   "metadata": {},
   "outputs": [
    {
     "name": "stdout",
     "output_type": "stream",
     "text": [
      "36 is even number\n"
     ]
    }
   ],
   "source": [
    "## check given number is even or odd \n",
    "\n",
    "number = int (input (\"Enter the number = \"))\n",
    "\n",
    "if number%2 == 0:\n",
    "    print(f\"{number} is even number\")\n",
    "else:\n",
    "    print(f\"{number} is not even number\")"
   ]
  },
  {
   "cell_type": "code",
   "execution_count": 17,
   "id": "28133711",
   "metadata": {},
   "outputs": [
    {
     "name": "stdout",
     "output_type": "stream",
     "text": [
      "You are eligable to cast vote\n"
     ]
    }
   ],
   "source": [
    "age = int(input(\"Enter your age = \"))\n",
    "\n",
    "print(\"You are eligable to cast vote\") if age>=18 else print(\"you are not eligable to cast vote\")"
   ]
  },
  {
   "cell_type": "code",
   "execution_count": null,
   "id": "607ad901",
   "metadata": {},
   "outputs": [],
   "source": [
    "## True_Result if condition else False_Result"
   ]
  },
  {
   "cell_type": "code",
   "execution_count": 27,
   "id": "0c695465",
   "metadata": {},
   "outputs": [
    {
     "name": "stdout",
     "output_type": "stream",
     "text": [
      "Collect your amount\n",
      "your available balnce is 1000.0\n"
     ]
    }
   ],
   "source": [
    "### WAP to withdaw money from atm and check money must be equal to or less than account balance\n",
    "\n",
    "balance = 5000\n",
    "withdrawal_money = float(input(\"Enter the amount \"))\n",
    "\n",
    "\n",
    "\n",
    "if withdrawal_money<=balance:\n",
    "    print(\"Collect your amount\")\n",
    "    balance = balance-withdrawal_money\n",
    "   \n",
    "    print(f\"your available balnce is {balance}\")\n",
    "else:\n",
    "    print(\"insufficient balance\")\n",
    "    print(balance)"
   ]
  },
  {
   "cell_type": "code",
   "execution_count": 30,
   "id": "8095f9b3",
   "metadata": {},
   "outputs": [
    {
     "name": "stdout",
     "output_type": "stream",
     "text": [
      "Invalid user_id or password\n"
     ]
    }
   ],
   "source": [
    "### wap to logging to facebook\n",
    "\n",
    "user_id_set = \"admin\"\n",
    "password_set = \"admin123\"\n",
    "\n",
    "user_id = input(\"Enter the id = \")\n",
    "password =  input(\"Enter the password= \")\n",
    "\n",
    "if (user_id_set==user_id) & (password_set == password):\n",
    "    print(\"Logging Sucessfully\")\n",
    "else:\n",
    "    print(\"Invalid user_id or password\")"
   ]
  },
  {
   "cell_type": "code",
   "execution_count": 37,
   "id": "b6834de0",
   "metadata": {},
   "outputs": [
    {
     "name": "stdout",
     "output_type": "stream",
     "text": [
      "monday\n",
      "It is not weekend, do the work!\n"
     ]
    }
   ],
   "source": [
    "## WAP to check it's weekend or week days \n",
    "\n",
    "##  weekend - sunday or saturday\n",
    "## week days - Monday to Friday\n",
    "\n",
    "day = input(\"Enter the day=\").lower()\n",
    "print(day)\n",
    "\n",
    "if day == \"sunday\" or day == \"saturday\":\n",
    "    print(\"Day is weekend enjoy your day\")\n",
    "else:\n",
    "    print(\"It is not weekend, do the work!\")"
   ]
  },
  {
   "cell_type": "code",
   "execution_count": 40,
   "id": "132d2751",
   "metadata": {},
   "outputs": [
    {
     "name": "stdout",
     "output_type": "stream",
     "text": [
      "Please carry Umberalla its rainning\n"
     ]
    }
   ],
   "source": [
    "## wap to check it is raining or not \n",
    "\n",
    "is_rain = True\n",
    "\n",
    "if not is_rain:\n",
    "    print(\"Don't carry umberalla with you it is not raining\")\n",
    "else:\n",
    "    print(\"Please carry Umberalla its rainning\")"
   ]
  },
  {
   "cell_type": "code",
   "execution_count": 2,
   "id": "94bf2954",
   "metadata": {},
   "outputs": [
    {
     "name": "stdout",
     "output_type": "stream",
     "text": [
      "Grade A\n",
      "Grade B\n",
      "Grade C\n"
     ]
    }
   ],
   "source": [
    "## marks is >= 90 --> Grade A\n",
    "## MARKS is >= 75 --> Grade B\n",
    "## Marks is >= 60 --> Grade C\n",
    "## Marks is <60 -->  Grade D\n",
    "\n",
    "marks = int(input(\"enter the marks = \"))\n",
    "\n",
    "if marks >= 90:\n",
    "    print(\"Grade A\")\n",
    "if marks >=75:\n",
    "    print(\"Grade B\")\n",
    "if marks >=60:\n",
    "    print(\"Grade C\")\n",
    "else:\n",
    "    print(\"Grade D\")"
   ]
  },
  {
   "cell_type": "code",
   "execution_count": 11,
   "id": "c7d31811",
   "metadata": {},
   "outputs": [
    {
     "name": "stdout",
     "output_type": "stream",
     "text": [
      "Grade A\n"
     ]
    }
   ],
   "source": [
    "marks = int(input(\"enter the marks = \"))\n",
    "if marks >= 90:\n",
    "    print(\"Grade A\")\n",
    "elif marks >=75:\n",
    "    print(\"Grade B\")\n",
    "elif marks >=60:\n",
    "    print(\"Grade C\")\n",
    "else:\n",
    "    print(\"Grade D\")"
   ]
  },
  {
   "cell_type": "code",
   "execution_count": 17,
   "id": "1b90ec62",
   "metadata": {},
   "outputs": [
    {
     "name": "stdout",
     "output_type": "stream",
     "text": [
      "Medium password 12345678\n"
     ]
    }
   ],
   "source": [
    "### PASSWROD STRENGTH\n",
    "\n",
    "### LEN >>> 10 --> STRONG PASSWORD \n",
    "\n",
    "### LEN BETWEEN 6 TO 10 --> MEDIUM PASSWROD \n",
    "\n",
    "### LEN LESS THAN 6 WEEK PASSWROD \n",
    "\n",
    "password = input(\"Enter your password = \")\n",
    "\n",
    "\n",
    "if len(password)>= 10 :\n",
    "    print(\"Strong password\", password)\n",
    "elif (len(password)>=6) & (len(password)<10):\n",
    "    print(\"Medium password\",password)\n",
    "else:\n",
    "    print(\"Week password\",password)"
   ]
  },
  {
   "cell_type": "code",
   "execution_count": null,
   "id": "54f1ef32",
   "metadata": {},
   "outputs": [
    {
     "name": "stdout",
     "output_type": "stream",
     "text": [
      "Not very hot but still hot 34.0\n"
     ]
    }
   ],
   "source": [
    "### temp >= 35 -- hot temperature\n",
    "## temp   between 17 to 22 --- cool temperature\n",
    "\n",
    "### temp between 10 to 17  -- cold temperature\n",
    "\n",
    "### temp is less 10 --- very cold temperature\n",
    "\n",
    "\n",
    "temp = float(input(\"Enter the temp = \"))\n",
    "\n",
    "if temp >= 35:\n",
    "    print(\"Hot temperature\", temp)\n",
    "elif (temp <35) & (temp >22):\n",
    "    print(\"Not very hot but still hot\", temp)\n",
    "elif (temp <= 22) & (temp >=17):\n",
    "    print(\"cool temperature\", temp)\n",
    "elif (temp >= 10) & (temp<17):\n",
    "    print(\"cold temperature\", temp)\n",
    "elif temp < 10 : \n",
    "     print(\" very cold temperature\", temp)\n",
    "\n",
    "     \n",
    "    \n",
    "    "
   ]
  },
  {
   "cell_type": "code",
   "execution_count": 47,
   "id": "1a1f03d5",
   "metadata": {},
   "outputs": [
    {
     "name": "stdout",
     "output_type": "stream",
     "text": [
      "Enter 1 to check the balance.\n",
      "Enter 2 to withdraw the amount.\n",
      "Enter 3 to deposit the amount.\n",
      "Enter the amount you want to deposit\n",
      "We are processing your request\n",
      "Amount is deposited\n",
      "Available Balance is 5500.0\n"
     ]
    }
   ],
   "source": [
    "set_user_name = \"admin\"\n",
    "set_password = \"admin123\"\n",
    "Balance = 5000\n",
    "user_name = input(\"Enter the user_name = \").lower()\n",
    "password = input (\"Enter your passwrod = \").lower()\n",
    "\n",
    "if (user_name==set_user_name) & (password == set_password):\n",
    "    print(\"Enter 1 to check the balance.\"\n",
    "          \"\\n\"\n",
    "          \"Enter 2 to withdraw the amount.\"\n",
    "          \"\\n\"\n",
    "          \"Enter 3 to deposit the amount.\")\n",
    "    user_input = input(\"enter your number\")\n",
    "    if user_input == \"1\":\n",
    "        print(f\"you account balance is  {Balance}\")\n",
    "    elif user_input == \"2\":\n",
    "        print(\"Enter the amount you want to withdraw\")\n",
    "        amount = float(input(\"Enter the amount\"))\n",
    "        if amount<= Balance:\n",
    "            print(f\"Please collect your amount {amount}\")\n",
    "            Balance = Balance-amount\n",
    "            print(f\"your available balance is {Balance}\")\n",
    "        else:\n",
    "            print(\"Insufficient Balance\")\n",
    "    elif user_input == \"3\":\n",
    "        print(\"Enter the amount you want to deposit\")\n",
    "        amount = float(input(\"Enter the amount\"))\n",
    "        print(\"We are processing your request\")\n",
    "        print(\"Amount is deposited\")\n",
    "        Balance = Balance+amount\n",
    "        print(f\"Available Balance is {Balance}\")\n",
    "else:\n",
    "    print(\"invalid user_name or password\")\n",
    "        \n",
    "        "
   ]
  },
  {
   "cell_type": "code",
   "execution_count": null,
   "id": "e4783c3e",
   "metadata": {},
   "outputs": [],
   "source": []
  },
  {
   "cell_type": "code",
   "execution_count": null,
   "id": "793be230",
   "metadata": {},
   "outputs": [],
   "source": []
  }
 ],
 "metadata": {
  "kernelspec": {
   "display_name": "base",
   "language": "python",
   "name": "python3"
  },
  "language_info": {
   "codemirror_mode": {
    "name": "ipython",
    "version": 3
   },
   "file_extension": ".py",
   "mimetype": "text/x-python",
   "name": "python",
   "nbconvert_exporter": "python",
   "pygments_lexer": "ipython3",
   "version": "3.12.7"
  }
 },
 "nbformat": 4,
 "nbformat_minor": 5
}
