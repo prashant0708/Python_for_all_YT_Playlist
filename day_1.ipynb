{
 "cells": [
  {
   "cell_type": "code",
   "execution_count": 4,
   "id": "3070f9c2",
   "metadata": {},
   "outputs": [
    {
     "name": "stdout",
     "output_type": "stream",
     "text": [
      "Welcome to the Python World\n"
     ]
    }
   ],
   "source": [
    "print(\"Welcome to the Python World\")"
   ]
  },
  {
   "cell_type": "markdown",
   "id": "1a86092f",
   "metadata": {},
   "source": [
    "## Int - 56,2,89,3670\n",
    "## float - 12.56,1289.785\n",
    "## Str -- \"1\",'1', 'Prashant' , '1', '4','6'\n",
    "\n",
    "## date - '12-02-2025'\n",
    "\n",
    "## datetime = '12-02-2025-10-30-25'"
   ]
  },
  {
   "cell_type": "code",
   "execution_count": 8,
   "id": "4ae72a8c",
   "metadata": {},
   "outputs": [
    {
     "data": {
      "text/plain": [
       "int"
      ]
     },
     "execution_count": 8,
     "metadata": {},
     "output_type": "execute_result"
    }
   ],
   "source": [
    "type(1)"
   ]
  },
  {
   "cell_type": "code",
   "execution_count": 9,
   "id": "369299c6",
   "metadata": {},
   "outputs": [
    {
     "data": {
      "text/plain": [
       "float"
      ]
     },
     "execution_count": 9,
     "metadata": {},
     "output_type": "execute_result"
    }
   ],
   "source": [
    "type(12.56)"
   ]
  },
  {
   "cell_type": "code",
   "execution_count": 7,
   "id": "70bcd9b0",
   "metadata": {},
   "outputs": [
    {
     "data": {
      "text/plain": [
       "str"
      ]
     },
     "execution_count": 7,
     "metadata": {},
     "output_type": "execute_result"
    }
   ],
   "source": [
    "type('12.56')"
   ]
  },
  {
   "cell_type": "code",
   "execution_count": 13,
   "id": "8ad4815f",
   "metadata": {},
   "outputs": [
    {
     "data": {
      "text/plain": [
       "str"
      ]
     },
     "execution_count": 13,
     "metadata": {},
     "output_type": "execute_result"
    }
   ],
   "source": [
    "type(\"Prashant\")   #shirt+enter"
   ]
  },
  {
   "cell_type": "code",
   "execution_count": 15,
   "id": "41652199",
   "metadata": {},
   "outputs": [
    {
     "data": {
      "text/plain": [
       "str"
      ]
     },
     "execution_count": 15,
     "metadata": {},
     "output_type": "execute_result"
    }
   ],
   "source": [
    "type(\"25-02-2025\")"
   ]
  },
  {
   "cell_type": "code",
   "execution_count": 16,
   "id": "22719a23",
   "metadata": {},
   "outputs": [
    {
     "data": {
      "text/plain": [
       "105"
      ]
     },
     "execution_count": 16,
     "metadata": {},
     "output_type": "execute_result"
    }
   ],
   "source": [
    "45+60"
   ]
  },
  {
   "cell_type": "markdown",
   "id": "949f5eff",
   "metadata": {},
   "source": [
    "# Variable\n",
    "Variable is container that store any data"
   ]
  },
  {
   "cell_type": "code",
   "execution_count": 17,
   "id": "3319fc27",
   "metadata": {},
   "outputs": [],
   "source": [
    "x = 5"
   ]
  },
  {
   "cell_type": "code",
   "execution_count": 20,
   "id": "eaa2c4b7",
   "metadata": {},
   "outputs": [
    {
     "data": {
      "text/plain": [
       "5"
      ]
     },
     "execution_count": 20,
     "metadata": {},
     "output_type": "execute_result"
    }
   ],
   "source": [
    "x"
   ]
  },
  {
   "cell_type": "code",
   "execution_count": 19,
   "id": "767a8c52",
   "metadata": {},
   "outputs": [
    {
     "data": {
      "text/plain": [
       "int"
      ]
     },
     "execution_count": 19,
     "metadata": {},
     "output_type": "execute_result"
    }
   ],
   "source": [
    "type(x)"
   ]
  },
  {
   "cell_type": "code",
   "execution_count": 21,
   "id": "a132e1e4",
   "metadata": {},
   "outputs": [
    {
     "data": {
      "text/plain": [
       "11"
      ]
     },
     "execution_count": 21,
     "metadata": {},
     "output_type": "execute_result"
    }
   ],
   "source": [
    "## sum of two number\n",
    "5+6"
   ]
  },
  {
   "cell_type": "code",
   "execution_count": 23,
   "id": "cd08ccef",
   "metadata": {},
   "outputs": [
    {
     "data": {
      "text/plain": [
       "13"
      ]
     },
     "execution_count": 23,
     "metadata": {},
     "output_type": "execute_result"
    }
   ],
   "source": [
    "x=6\n",
    "y=7\n",
    "x+y"
   ]
  },
  {
   "cell_type": "code",
   "execution_count": 24,
   "id": "a5dcc987",
   "metadata": {},
   "outputs": [
    {
     "data": {
      "text/plain": [
       "90"
      ]
     },
     "execution_count": 24,
     "metadata": {},
     "output_type": "execute_result"
    }
   ],
   "source": [
    "x1 = 56\n",
    "y1 = 34\n",
    "\n",
    "x1+y1"
   ]
  },
  {
   "cell_type": "markdown",
   "id": "4eb7df61",
   "metadata": {},
   "source": [
    "# Rule to define Varibale\n",
    "1. never start with numerical value\n",
    "2. Never start with any special character\n",
    "3. There are some reserve words inside python that can't be used for varibale name\n",
    "4. Variabel name start with __, alphabatical value.\n",
    "\n",
    "\n"
   ]
  },
  {
   "cell_type": "code",
   "execution_count": 31,
   "id": "49f374ab",
   "metadata": {},
   "outputs": [],
   "source": [
    "X1 = 45\n",
    "x1 = 34\n",
    "\n"
   ]
  },
  {
   "cell_type": "code",
   "execution_count": 32,
   "id": "b435d89f",
   "metadata": {},
   "outputs": [
    {
     "data": {
      "text/plain": [
       "45"
      ]
     },
     "execution_count": 32,
     "metadata": {},
     "output_type": "execute_result"
    }
   ],
   "source": [
    "X1"
   ]
  },
  {
   "cell_type": "code",
   "execution_count": 33,
   "id": "8969e443",
   "metadata": {},
   "outputs": [
    {
     "data": {
      "text/plain": [
       "34"
      ]
     },
     "execution_count": 33,
     "metadata": {},
     "output_type": "execute_result"
    }
   ],
   "source": [
    "x1"
   ]
  },
  {
   "cell_type": "code",
   "execution_count": 36,
   "id": "c4f41d4b",
   "metadata": {},
   "outputs": [],
   "source": [
    "lists =45"
   ]
  },
  {
   "cell_type": "markdown",
   "id": "f96186ac",
   "metadata": {},
   "source": []
  },
  {
   "cell_type": "markdown",
   "id": "0c3514e3",
   "metadata": {},
   "source": [
    "## Arithmetical operation"
   ]
  },
  {
   "cell_type": "code",
   "execution_count": 39,
   "id": "e2812fe7",
   "metadata": {},
   "outputs": [],
   "source": [
    "## sum \n",
    "num_1=45\n",
    "num_2=56\n",
    "result = num_1 + num_2"
   ]
  },
  {
   "cell_type": "code",
   "execution_count": 40,
   "id": "5c8b2c16",
   "metadata": {},
   "outputs": [
    {
     "data": {
      "text/plain": [
       "101"
      ]
     },
     "execution_count": 40,
     "metadata": {},
     "output_type": "execute_result"
    }
   ],
   "source": [
    "result\n"
   ]
  },
  {
   "cell_type": "code",
   "execution_count": 41,
   "id": "1485b61c",
   "metadata": {},
   "outputs": [
    {
     "data": {
      "text/plain": [
       "68"
      ]
     },
     "execution_count": 41,
     "metadata": {},
     "output_type": "execute_result"
    }
   ],
   "source": [
    "num1 , num2 = 45,23\n",
    "result = (num1+num2)\n",
    "result"
   ]
  },
  {
   "cell_type": "code",
   "execution_count": 48,
   "id": "d6350347",
   "metadata": {},
   "outputs": [],
   "source": [
    "num1 , num2 = 23,20"
   ]
  },
  {
   "cell_type": "code",
   "execution_count": 49,
   "id": "e1cfe00f",
   "metadata": {},
   "outputs": [
    {
     "data": {
      "text/plain": [
       "23"
      ]
     },
     "execution_count": 49,
     "metadata": {},
     "output_type": "execute_result"
    }
   ],
   "source": [
    "num1\n"
   ]
  },
  {
   "cell_type": "code",
   "execution_count": 50,
   "id": "7053e3f1",
   "metadata": {},
   "outputs": [
    {
     "data": {
      "text/plain": [
       "20"
      ]
     },
     "execution_count": 50,
     "metadata": {},
     "output_type": "execute_result"
    }
   ],
   "source": [
    "num2"
   ]
  },
  {
   "cell_type": "code",
   "execution_count": 52,
   "id": "d2c80613",
   "metadata": {},
   "outputs": [
    {
     "data": {
      "text/plain": [
       "44"
      ]
     },
     "execution_count": 52,
     "metadata": {},
     "output_type": "execute_result"
    }
   ],
   "source": [
    "## subtraction\n",
    "\n",
    "a = 78\n",
    "b = 34\n",
    "\n",
    "result =a-b\n",
    "\n",
    "result"
   ]
  },
  {
   "cell_type": "code",
   "execution_count": 54,
   "id": "8fa4d24f",
   "metadata": {},
   "outputs": [
    {
     "data": {
      "text/plain": [
       "68"
      ]
     },
     "execution_count": 54,
     "metadata": {},
     "output_type": "execute_result"
    }
   ],
   "source": [
    "## multiplication\n",
    "\n",
    "a =34\n",
    "b = 2\n",
    "result = a*b\n",
    "result"
   ]
  },
  {
   "cell_type": "code",
   "execution_count": 58,
   "id": "6f921838",
   "metadata": {},
   "outputs": [
    {
     "data": {
      "text/plain": [
       "15.0"
      ]
     },
     "execution_count": 58,
     "metadata": {},
     "output_type": "execute_result"
    }
   ],
   "source": [
    "## division\n",
    "\n",
    "a = 45\n",
    "b = 3\n",
    "\n",
    "result = a/b\n",
    "\n",
    "result"
   ]
  },
  {
   "cell_type": "code",
   "execution_count": 59,
   "id": "609b06cc",
   "metadata": {},
   "outputs": [],
   "source": [
    "Name = \"prashant\"\n",
    "\n",
    "Age = 35\n",
    "\n",
    "place  = \"India\""
   ]
  },
  {
   "cell_type": "code",
   "execution_count": 62,
   "id": "7136735c",
   "metadata": {},
   "outputs": [
    {
     "data": {
      "text/plain": [
       "(str, int, str)"
      ]
     },
     "execution_count": 62,
     "metadata": {},
     "output_type": "execute_result"
    }
   ],
   "source": [
    "type(Name),type(Age),type(place)"
   ]
  },
  {
   "cell_type": "code",
   "execution_count": 63,
   "id": "95589807",
   "metadata": {},
   "outputs": [
    {
     "data": {
      "text/plain": [
       "('prashant', 35, 'India')"
      ]
     },
     "execution_count": 63,
     "metadata": {},
     "output_type": "execute_result"
    }
   ],
   "source": [
    "Name,Age,place"
   ]
  }
 ],
 "metadata": {
  "kernelspec": {
   "display_name": "base",
   "language": "python",
   "name": "python3"
  },
  "language_info": {
   "codemirror_mode": {
    "name": "ipython",
    "version": 3
   },
   "file_extension": ".py",
   "mimetype": "text/x-python",
   "name": "python",
   "nbconvert_exporter": "python",
   "pygments_lexer": "ipython3",
   "version": "3.12.7"
  }
 },
 "nbformat": 4,
 "nbformat_minor": 5
}
