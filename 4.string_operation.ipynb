{
 "cells": [
  {
   "cell_type": "code",
   "execution_count": 1,
   "id": "18b3d929",
   "metadata": {},
   "outputs": [],
   "source": [
    "test = \"Hello , Welcome to my channel , I am Prashant\""
   ]
  },
  {
   "cell_type": "code",
   "execution_count": 2,
   "id": "662e6421",
   "metadata": {},
   "outputs": [
    {
     "data": {
      "text/plain": [
       "'Hello , Welcome to my channel , I am Prashant'"
      ]
     },
     "execution_count": 2,
     "metadata": {},
     "output_type": "execute_result"
    }
   ],
   "source": [
    "test"
   ]
  },
  {
   "cell_type": "code",
   "execution_count": 3,
   "id": "d8fb2716",
   "metadata": {},
   "outputs": [
    {
     "data": {
      "text/plain": [
       "45"
      ]
     },
     "execution_count": 3,
     "metadata": {},
     "output_type": "execute_result"
    }
   ],
   "source": [
    "len(test)"
   ]
  },
  {
   "cell_type": "code",
   "execution_count": 6,
   "id": "53b6acda",
   "metadata": {},
   "outputs": [
    {
     "data": {
      "text/plain": [
       "7"
      ]
     },
     "execution_count": 6,
     "metadata": {},
     "output_type": "execute_result"
    }
   ],
   "source": [
    "text2 = \"Hello  \"\n",
    "len(text2)"
   ]
  },
  {
   "cell_type": "code",
   "execution_count": 7,
   "id": "7057cedf",
   "metadata": {},
   "outputs": [],
   "source": [
    "corpus = \"\"\"Python is a high-level, general-purpose programming language. Its design philosophy emphasizes code readability with the use of significant indentation\n",
    "\n",
    "Python is dynamically type-checked and garbage-collected. It supports multiple programming paradigms, including structured (particularly procedural), \n",
    "object-oriented and functional programming. It is often described as a \"batteries included\" language due to its comprehensive standard library.\"\"\""
   ]
  },
  {
   "cell_type": "code",
   "execution_count": 8,
   "id": "6b4f7c10",
   "metadata": {},
   "outputs": [
    {
     "data": {
      "text/plain": [
       "'Python is a high-level, general-purpose programming language. Its design philosophy emphasizes code readability with the use of significant indentation\\n\\nPython is dynamically type-checked and garbage-collected. It supports multiple programming paradigms, including structured (particularly procedural), \\nobject-oriented and functional programming. It is often described as a \"batteries included\" language due to its comprehensive standard library.'"
      ]
     },
     "execution_count": 8,
     "metadata": {},
     "output_type": "execute_result"
    }
   ],
   "source": [
    "corpus"
   ]
  },
  {
   "cell_type": "code",
   "execution_count": 9,
   "id": "3da647ff",
   "metadata": {},
   "outputs": [
    {
     "data": {
      "text/plain": [
       "447"
      ]
     },
     "execution_count": 9,
     "metadata": {},
     "output_type": "execute_result"
    }
   ],
   "source": [
    "len(corpus)"
   ]
  },
  {
   "cell_type": "code",
   "execution_count": 10,
   "id": "822b6845",
   "metadata": {},
   "outputs": [
    {
     "data": {
      "text/plain": [
       "'PYTHON IS A HIGH-LEVEL, GENERAL-PURPOSE PROGRAMMING LANGUAGE. ITS DESIGN PHILOSOPHY EMPHASIZES CODE READABILITY WITH THE USE OF SIGNIFICANT INDENTATION\\n\\nPYTHON IS DYNAMICALLY TYPE-CHECKED AND GARBAGE-COLLECTED. IT SUPPORTS MULTIPLE PROGRAMMING PARADIGMS, INCLUDING STRUCTURED (PARTICULARLY PROCEDURAL), \\nOBJECT-ORIENTED AND FUNCTIONAL PROGRAMMING. IT IS OFTEN DESCRIBED AS A \"BATTERIES INCLUDED\" LANGUAGE DUE TO ITS COMPREHENSIVE STANDARD LIBRARY.'"
      ]
     },
     "execution_count": 10,
     "metadata": {},
     "output_type": "execute_result"
    }
   ],
   "source": [
    "## make upper case \n",
    "\n",
    "corpus.upper()"
   ]
  },
  {
   "cell_type": "code",
   "execution_count": 13,
   "id": "af7dd0ae",
   "metadata": {},
   "outputs": [],
   "source": [
    "text = \"Hello , Welcome to my channel , I am Prashant\""
   ]
  },
  {
   "cell_type": "code",
   "execution_count": 14,
   "id": "ae850a8e",
   "metadata": {},
   "outputs": [
    {
     "data": {
      "text/plain": [
       "'HELLO , WELCOME TO MY CHANNEL , I AM PRASHANT'"
      ]
     },
     "execution_count": 14,
     "metadata": {},
     "output_type": "execute_result"
    }
   ],
   "source": [
    "text.upper()"
   ]
  },
  {
   "cell_type": "code",
   "execution_count": 15,
   "id": "74b51c4c",
   "metadata": {},
   "outputs": [
    {
     "data": {
      "text/plain": [
       "'hello , welcome to my channel , i am prashant'"
      ]
     },
     "execution_count": 15,
     "metadata": {},
     "output_type": "execute_result"
    }
   ],
   "source": [
    "## lower case\n",
    "\n",
    "text.lower()"
   ]
  },
  {
   "cell_type": "code",
   "execution_count": 16,
   "id": "5acce814",
   "metadata": {},
   "outputs": [
    {
     "data": {
      "text/plain": [
       "'python is a high-level, general-purpose programming language. its design philosophy emphasizes code readability with the use of significant indentation\\n\\npython is dynamically type-checked and garbage-collected. it supports multiple programming paradigms, including structured (particularly procedural), \\nobject-oriented and functional programming. it is often described as a \"batteries included\" language due to its comprehensive standard library.'"
      ]
     },
     "execution_count": 16,
     "metadata": {},
     "output_type": "execute_result"
    }
   ],
   "source": [
    "corpus.lower()"
   ]
  },
  {
   "cell_type": "code",
   "execution_count": 18,
   "id": "83f3c1ba",
   "metadata": {},
   "outputs": [
    {
     "data": {
      "text/plain": [
       "'Hello , Welcome To My Channel , I Am Prashant'"
      ]
     },
     "execution_count": 18,
     "metadata": {},
     "output_type": "execute_result"
    }
   ],
   "source": [
    "## title \n",
    "text.title()"
   ]
  },
  {
   "cell_type": "code",
   "execution_count": 19,
   "id": "0083e764",
   "metadata": {},
   "outputs": [
    {
     "data": {
      "text/plain": [
       "'Python Is A High-Level, General-Purpose Programming Language. Its Design Philosophy Emphasizes Code Readability With The Use Of Significant Indentation\\n\\nPython Is Dynamically Type-Checked And Garbage-Collected. It Supports Multiple Programming Paradigms, Including Structured (Particularly Procedural), \\nObject-Oriented And Functional Programming. It Is Often Described As A \"Batteries Included\" Language Due To Its Comprehensive Standard Library.'"
      ]
     },
     "execution_count": 19,
     "metadata": {},
     "output_type": "execute_result"
    }
   ],
   "source": [
    "corpus.title()"
   ]
  },
  {
   "cell_type": "code",
   "execution_count": null,
   "id": "b2bb1b14",
   "metadata": {},
   "outputs": [
    {
     "data": {
      "text/plain": [
       "'Hello , welcome to my channel , i am prashant'"
      ]
     },
     "execution_count": 22,
     "metadata": {},
     "output_type": "execute_result"
    }
   ],
   "source": [
    "## capitalize\n",
    "\n",
    "text.capitalize()"
   ]
  },
  {
   "cell_type": "code",
   "execution_count": 24,
   "id": "975419d1",
   "metadata": {},
   "outputs": [
    {
     "data": {
      "text/plain": [
       "'Python is a high-level, general-purpose programming language. its design philosophy emphasizes code readability with the use of significant indentation\\n\\npython is dynamically type-checked and garbage-collected. it supports multiple programming paradigms, including structured (particularly procedural), \\nobject-oriented and functional programming. it is often described as a \"batteries included\" language due to its comprehensive standard library.'"
      ]
     },
     "execution_count": 24,
     "metadata": {},
     "output_type": "execute_result"
    }
   ],
   "source": [
    "corpus.capitalize()"
   ]
  },
  {
   "cell_type": "markdown",
   "id": "40a9dbf0",
   "metadata": {},
   "source": [
    "1. Upper\n",
    "2. lower\n",
    "3. Title\n",
    "4. Capitalize"
   ]
  },
  {
   "cell_type": "code",
   "execution_count": 35,
   "id": "55e5c63f",
   "metadata": {},
   "outputs": [
    {
     "data": {
      "text/plain": [
       "'Hello'"
      ]
     },
     "execution_count": 35,
     "metadata": {},
     "output_type": "execute_result"
    }
   ],
   "source": [
    "## slicing and intexing of string\n",
    "\n",
    "text[0:5]"
   ]
  },
  {
   "cell_type": "code",
   "execution_count": 27,
   "id": "15585a34",
   "metadata": {},
   "outputs": [
    {
     "data": {
      "text/plain": [
       "'Hello , Welcome to my channel , I am Prashant'"
      ]
     },
     "execution_count": 27,
     "metadata": {},
     "output_type": "execute_result"
    }
   ],
   "source": [
    "text"
   ]
  },
  {
   "cell_type": "code",
   "execution_count": 37,
   "id": "0aa22bee",
   "metadata": {},
   "outputs": [
    {
     "data": {
      "text/plain": [
       "'Hello , Welcome'"
      ]
     },
     "execution_count": 37,
     "metadata": {},
     "output_type": "execute_result"
    }
   ],
   "source": [
    "text[0:15]"
   ]
  },
  {
   "cell_type": "code",
   "execution_count": 48,
   "id": "1442820d",
   "metadata": {},
   "outputs": [
    {
     "data": {
      "text/plain": [
       "8"
      ]
     },
     "execution_count": 48,
     "metadata": {},
     "output_type": "execute_result"
    }
   ],
   "source": [
    "text.index('Welcome')"
   ]
  },
  {
   "cell_type": "code",
   "execution_count": 49,
   "id": "99ae4004",
   "metadata": {},
   "outputs": [
    {
     "data": {
      "text/plain": [
       "22"
      ]
     },
     "execution_count": 49,
     "metadata": {},
     "output_type": "execute_result"
    }
   ],
   "source": [
    "text.index('channel')"
   ]
  },
  {
   "cell_type": "code",
   "execution_count": 50,
   "id": "367c0fd3",
   "metadata": {},
   "outputs": [
    {
     "data": {
      "text/plain": [
       "'Hello , Welcome to my channel'"
      ]
     },
     "execution_count": 50,
     "metadata": {},
     "output_type": "execute_result"
    }
   ],
   "source": [
    "text[0:29]"
   ]
  },
  {
   "cell_type": "code",
   "execution_count": 51,
   "id": "2511c17e",
   "metadata": {},
   "outputs": [
    {
     "data": {
      "text/plain": [
       "'Python is a high-level, general-purpose programming language. Its design philosophy emphasizes code readability with the use of significant indentation\\n\\nPython is dynamically type-checked and garbage-collected. It supports multiple programming paradigms, including structured (particularly procedural), \\nobject-oriented and functional programming. It is often described as a \"batteries included\" language due to its comprehensive standard library.'"
      ]
     },
     "execution_count": 51,
     "metadata": {},
     "output_type": "execute_result"
    }
   ],
   "source": [
    "corpus"
   ]
  },
  {
   "cell_type": "code",
   "execution_count": 52,
   "id": "dfe8a056",
   "metadata": {},
   "outputs": [
    {
     "data": {
      "text/plain": [
       "62"
      ]
     },
     "execution_count": 52,
     "metadata": {},
     "output_type": "execute_result"
    }
   ],
   "source": [
    "corpus.index('Its design philosophy emphasizes')"
   ]
  },
  {
   "cell_type": "code",
   "execution_count": 55,
   "id": "1e22301c",
   "metadata": {},
   "outputs": [
    {
     "data": {
      "text/plain": [
       "95"
      ]
     },
     "execution_count": 55,
     "metadata": {},
     "output_type": "execute_result"
    }
   ],
   "source": [
    "corpus.index(\"code\")"
   ]
  },
  {
   "cell_type": "code",
   "execution_count": 56,
   "id": "72c2da2d",
   "metadata": {},
   "outputs": [
    {
     "data": {
      "text/plain": [
       "'Its design philosophy emphasizes'"
      ]
     },
     "execution_count": 56,
     "metadata": {},
     "output_type": "execute_result"
    }
   ],
   "source": [
    "corpus[62:94]"
   ]
  },
  {
   "cell_type": "code",
   "execution_count": 57,
   "id": "62c76ffe",
   "metadata": {},
   "outputs": [
    {
     "data": {
      "text/plain": [
       "'Hello , Welcome to my channel , I am Prashant'"
      ]
     },
     "execution_count": 57,
     "metadata": {},
     "output_type": "execute_result"
    }
   ],
   "source": [
    "text"
   ]
  },
  {
   "cell_type": "code",
   "execution_count": 58,
   "id": "3a17ab60",
   "metadata": {},
   "outputs": [
    {
     "data": {
      "text/plain": [
       "'tnahsarP ma I , lennahc ym ot emocleW , olleH'"
      ]
     },
     "execution_count": 58,
     "metadata": {},
     "output_type": "execute_result"
    }
   ],
   "source": [
    "text[::-1]"
   ]
  },
  {
   "cell_type": "code",
   "execution_count": 59,
   "id": "c0122803",
   "metadata": {},
   "outputs": [
    {
     "data": {
      "text/plain": [
       "'Hello , Welcome to my channel , I am Prashant'"
      ]
     },
     "execution_count": 59,
     "metadata": {},
     "output_type": "execute_result"
    }
   ],
   "source": [
    "text"
   ]
  },
  {
   "cell_type": "code",
   "execution_count": 60,
   "id": "b4305dbc",
   "metadata": {},
   "outputs": [],
   "source": [
    "text1 = \"Hello\""
   ]
  },
  {
   "cell_type": "code",
   "execution_count": 61,
   "id": "886cc181",
   "metadata": {},
   "outputs": [
    {
     "data": {
      "text/plain": [
       "'Hello'"
      ]
     },
     "execution_count": 61,
     "metadata": {},
     "output_type": "execute_result"
    }
   ],
   "source": [
    "text1[0:5]"
   ]
  },
  {
   "cell_type": "code",
   "execution_count": 64,
   "id": "bbb9cd31",
   "metadata": {},
   "outputs": [
    {
     "data": {
      "text/plain": [
       "'olleH'"
      ]
     },
     "execution_count": 64,
     "metadata": {},
     "output_type": "execute_result"
    }
   ],
   "source": [
    "text1[-1:-6:-1]"
   ]
  },
  {
   "cell_type": "code",
   "execution_count": 65,
   "id": "8566cb71",
   "metadata": {},
   "outputs": [
    {
     "data": {
      "text/plain": [
       "'Hello'"
      ]
     },
     "execution_count": 65,
     "metadata": {},
     "output_type": "execute_result"
    }
   ],
   "source": [
    "text1"
   ]
  },
  {
   "cell_type": "code",
   "execution_count": 67,
   "id": "efcb40bc",
   "metadata": {},
   "outputs": [
    {
     "data": {
      "text/plain": [
       "'olleH'"
      ]
     },
     "execution_count": 67,
     "metadata": {},
     "output_type": "execute_result"
    }
   ],
   "source": [
    "text1[::-1]"
   ]
  },
  {
   "cell_type": "code",
   "execution_count": 68,
   "id": "42114935",
   "metadata": {},
   "outputs": [
    {
     "data": {
      "text/plain": [
       "'Hello'"
      ]
     },
     "execution_count": 68,
     "metadata": {},
     "output_type": "execute_result"
    }
   ],
   "source": [
    "text1"
   ]
  },
  {
   "cell_type": "code",
   "execution_count": 69,
   "id": "e56b52d7",
   "metadata": {},
   "outputs": [
    {
     "data": {
      "text/plain": [
       "'olle'"
      ]
     },
     "execution_count": 69,
     "metadata": {},
     "output_type": "execute_result"
    }
   ],
   "source": [
    "text1[-1:-5:-1]"
   ]
  },
  {
   "cell_type": "code",
   "execution_count": 70,
   "id": "66b13186",
   "metadata": {},
   "outputs": [
    {
     "data": {
      "text/plain": [
       "'Hello , Welcome to my channel , I am Prashant'"
      ]
     },
     "execution_count": 70,
     "metadata": {},
     "output_type": "execute_result"
    }
   ],
   "source": [
    "text"
   ]
  },
  {
   "cell_type": "code",
   "execution_count": 79,
   "id": "9a7858bd",
   "metadata": {},
   "outputs": [
    {
     "data": {
      "text/plain": [
       "'emocleW '"
      ]
     },
     "execution_count": 79,
     "metadata": {},
     "output_type": "execute_result"
    }
   ],
   "source": [
    "text[-31:-39:-1]"
   ]
  },
  {
   "cell_type": "code",
   "execution_count": 80,
   "id": "ada4f19c",
   "metadata": {},
   "outputs": [
    {
     "data": {
      "text/plain": [
       "'Python is a high-level, general-purpose programming language. Its design philosophy emphasizes code readability with the use of significant indentation\\n\\nPython is dynamically type-checked and garbage-collected. It supports multiple programming paradigms, including structured (particularly procedural), \\nobject-oriented and functional programming. It is often described as a \"batteries included\" language due to its comprehensive standard library.'"
      ]
     },
     "execution_count": 80,
     "metadata": {},
     "output_type": "execute_result"
    }
   ],
   "source": [
    "corpus"
   ]
  },
  {
   "cell_type": "code",
   "execution_count": 81,
   "id": "a0ca6ad9",
   "metadata": {},
   "outputs": [
    {
     "data": {
      "text/plain": [
       "'.yrarbil dradnats evisneherpmoc sti ot eud egaugnal \"dedulcni seirettab\" a sa debircsed netfo si tI .gnimmargorp lanoitcnuf dna detneiro-tcejbo\\n ,)larudecorp ylralucitrap( derutcurts gnidulcni ,smgidarap gnimmargorp elpitlum stroppus tI .detcelloc-egabrag dna dekcehc-epyt yllacimanyd si nohtyP\\n\\nnoitatnedni tnacifingis fo esu eht htiw ytilibadaer edoc sezisahpme yhposolihp ngised stI .egaugnal gnimmargorp esoprup-lareneg ,level-hgih a si nohtyP'"
      ]
     },
     "execution_count": 81,
     "metadata": {},
     "output_type": "execute_result"
    }
   ],
   "source": [
    "corpus[::-1]"
   ]
  },
  {
   "cell_type": "code",
   "execution_count": 82,
   "id": "5721a2e1",
   "metadata": {},
   "outputs": [
    {
     "data": {
      "text/plain": [
       "'Hello , Welcome to my channel , I am Prashant'"
      ]
     },
     "execution_count": 82,
     "metadata": {},
     "output_type": "execute_result"
    }
   ],
   "source": [
    "text"
   ]
  },
  {
   "cell_type": "code",
   "execution_count": 83,
   "id": "4cd34ecf",
   "metadata": {},
   "outputs": [
    {
     "data": {
      "text/plain": [
       "8"
      ]
     },
     "execution_count": 83,
     "metadata": {},
     "output_type": "execute_result"
    }
   ],
   "source": [
    "text.index(\"Welcome\")"
   ]
  },
  {
   "cell_type": "code",
   "execution_count": 85,
   "id": "25d37110",
   "metadata": {},
   "outputs": [
    {
     "data": {
      "text/plain": [
       "'Welcome'"
      ]
     },
     "execution_count": 85,
     "metadata": {},
     "output_type": "execute_result"
    }
   ],
   "source": [
    "text[8:15]"
   ]
  },
  {
   "cell_type": "code",
   "execution_count": 89,
   "id": "f06f82e2",
   "metadata": {},
   "outputs": [
    {
     "data": {
      "text/plain": [
       "'emocleW'"
      ]
     },
     "execution_count": 89,
     "metadata": {},
     "output_type": "execute_result"
    }
   ],
   "source": [
    "text[14:7:-1]"
   ]
  },
  {
   "cell_type": "code",
   "execution_count": 90,
   "id": "1b8b86a4",
   "metadata": {},
   "outputs": [
    {
     "data": {
      "text/plain": [
       "'Hello , Welcome to my channel , I am Prashant'"
      ]
     },
     "execution_count": 90,
     "metadata": {},
     "output_type": "execute_result"
    }
   ],
   "source": [
    "text"
   ]
  },
  {
   "cell_type": "code",
   "execution_count": 91,
   "id": "91196109",
   "metadata": {},
   "outputs": [
    {
     "data": {
      "text/plain": [
       "'Python is a high-level, general-purpose programming language. Its design philosophy emphasizes code readability with the use of significant indentation\\n\\nPython is dynamically type-checked and garbage-collected. It supports multiple programming paradigms, including structured (particularly procedural), \\nobject-oriented and functional programming. It is often described as a \"batteries included\" language due to its comprehensive standard library.'"
      ]
     },
     "execution_count": 91,
     "metadata": {},
     "output_type": "execute_result"
    }
   ],
   "source": [
    "corpus"
   ]
  },
  {
   "cell_type": "code",
   "execution_count": 92,
   "id": "8e86aa75",
   "metadata": {},
   "outputs": [],
   "source": [
    "text = ' Hello , Welcome to my channel , I am Prashant '"
   ]
  },
  {
   "cell_type": "code",
   "execution_count": 93,
   "id": "115e4d35",
   "metadata": {},
   "outputs": [
    {
     "data": {
      "text/plain": [
       "' Hello , Welcome to my channel , I am Prashant '"
      ]
     },
     "execution_count": 93,
     "metadata": {},
     "output_type": "execute_result"
    }
   ],
   "source": [
    "text"
   ]
  },
  {
   "cell_type": "code",
   "execution_count": 94,
   "id": "7f60d184",
   "metadata": {},
   "outputs": [
    {
     "data": {
      "text/plain": [
       "'Hello , Welcome to my channel , I am Prashant'"
      ]
     },
     "execution_count": 94,
     "metadata": {},
     "output_type": "execute_result"
    }
   ],
   "source": [
    "## strip function\n",
    "\n",
    "text.strip()"
   ]
  },
  {
   "cell_type": "code",
   "execution_count": 96,
   "id": "36a175a9",
   "metadata": {},
   "outputs": [
    {
     "data": {
      "text/plain": [
       "'Hello , Welcome to my channel , I am Prashant '"
      ]
     },
     "execution_count": 96,
     "metadata": {},
     "output_type": "execute_result"
    }
   ],
   "source": [
    "## lstrip\n",
    "\n",
    "text.lstrip()"
   ]
  },
  {
   "cell_type": "code",
   "execution_count": 97,
   "id": "087e396c",
   "metadata": {},
   "outputs": [
    {
     "data": {
      "text/plain": [
       "' Hello , Welcome to my channel , I am Prashant'"
      ]
     },
     "execution_count": 97,
     "metadata": {},
     "output_type": "execute_result"
    }
   ],
   "source": [
    "# rstrip\n",
    "text.rstrip()"
   ]
  },
  {
   "cell_type": "code",
   "execution_count": 99,
   "id": "04af3bf7",
   "metadata": {},
   "outputs": [],
   "source": [
    "text = \"$$% Hello , Welcome to my channel , I am Prashant$$\""
   ]
  },
  {
   "cell_type": "code",
   "execution_count": 100,
   "id": "682d152c",
   "metadata": {},
   "outputs": [
    {
     "data": {
      "text/plain": [
       "'$$% Hello , Welcome to my channel , I am Prashant$$'"
      ]
     },
     "execution_count": 100,
     "metadata": {},
     "output_type": "execute_result"
    }
   ],
   "source": [
    "text"
   ]
  },
  {
   "cell_type": "code",
   "execution_count": 103,
   "id": "d25fcc0c",
   "metadata": {},
   "outputs": [
    {
     "data": {
      "text/plain": [
       "'Hello , Welcome to my channel , I am Prashant'"
      ]
     },
     "execution_count": 103,
     "metadata": {},
     "output_type": "execute_result"
    }
   ],
   "source": [
    "text.strip('$$% ')"
   ]
  },
  {
   "cell_type": "code",
   "execution_count": 104,
   "id": "c6509994",
   "metadata": {},
   "outputs": [],
   "source": [
    "text = \" Hello , Welcome $$% to my channel , I am Prashant$$\""
   ]
  },
  {
   "cell_type": "code",
   "execution_count": 105,
   "id": "e6ff940e",
   "metadata": {},
   "outputs": [
    {
     "data": {
      "text/plain": [
       "' Hello , Welcome $$% to my channel , I am Prashant$$'"
      ]
     },
     "execution_count": 105,
     "metadata": {},
     "output_type": "execute_result"
    }
   ],
   "source": [
    "text"
   ]
  },
  {
   "cell_type": "code",
   "execution_count": 107,
   "id": "36d10c76",
   "metadata": {},
   "outputs": [],
   "source": [
    "text=text.rstrip(\"$$\")"
   ]
  },
  {
   "cell_type": "code",
   "execution_count": 111,
   "id": "85fb2b0f",
   "metadata": {},
   "outputs": [],
   "source": [
    "text=text.replace(\"$$%\",\"\")"
   ]
  },
  {
   "cell_type": "code",
   "execution_count": 112,
   "id": "e006cf02",
   "metadata": {},
   "outputs": [
    {
     "data": {
      "text/plain": [
       "' Hello , Welcome  to my channel , I am Prashant'"
      ]
     },
     "execution_count": 112,
     "metadata": {},
     "output_type": "execute_result"
    }
   ],
   "source": [
    "text"
   ]
  },
  {
   "cell_type": "code",
   "execution_count": 113,
   "id": "f097ac84",
   "metadata": {},
   "outputs": [
    {
     "data": {
      "text/plain": [
       "' Hello , Welcome  to my channel , I am Prashant'"
      ]
     },
     "execution_count": 113,
     "metadata": {},
     "output_type": "execute_result"
    }
   ],
   "source": [
    "text"
   ]
  },
  {
   "cell_type": "code",
   "execution_count": 115,
   "id": "30055e86",
   "metadata": {},
   "outputs": [],
   "source": [
    "text=text.strip()"
   ]
  },
  {
   "cell_type": "code",
   "execution_count": 116,
   "id": "a80ba7e2",
   "metadata": {},
   "outputs": [
    {
     "data": {
      "text/plain": [
       "'Hello , Welcome  to my channel , I am Prashant'"
      ]
     },
     "execution_count": 116,
     "metadata": {},
     "output_type": "execute_result"
    }
   ],
   "source": [
    "text"
   ]
  },
  {
   "cell_type": "code",
   "execution_count": 121,
   "id": "e37f6f56",
   "metadata": {},
   "outputs": [],
   "source": [
    "text=text.replace(\"channel\",\"Video\")"
   ]
  },
  {
   "cell_type": "code",
   "execution_count": 122,
   "id": "17760278",
   "metadata": {},
   "outputs": [
    {
     "data": {
      "text/plain": [
       "'Hello , Welcome  to my Video , I am Prashant'"
      ]
     },
     "execution_count": 122,
     "metadata": {},
     "output_type": "execute_result"
    }
   ],
   "source": [
    "text"
   ]
  },
  {
   "cell_type": "code",
   "execution_count": 124,
   "id": "a2599f64",
   "metadata": {},
   "outputs": [
    {
     "data": {
      "text/plain": [
       "'Hello , Welcome to Python Playlist , I am Prashant'"
      ]
     },
     "execution_count": 124,
     "metadata": {},
     "output_type": "execute_result"
    }
   ],
   "source": [
    "text.replace(\"Welcome  to my Video\",\"Welcome to Python Playlist\")"
   ]
  },
  {
   "cell_type": "code",
   "execution_count": 128,
   "id": "b39a8e81",
   "metadata": {},
   "outputs": [
    {
     "data": {
      "text/plain": [
       "['Hello', ',', 'Welcome', 'to', 'my', 'Video', ',', 'I', 'am', 'Prashant']"
      ]
     },
     "execution_count": 128,
     "metadata": {},
     "output_type": "execute_result"
    }
   ],
   "source": [
    "## split \n",
    "\n",
    "text.split()"
   ]
  },
  {
   "cell_type": "code",
   "execution_count": 129,
   "id": "4aaffbf8",
   "metadata": {},
   "outputs": [
    {
     "data": {
      "text/plain": [
       "'Python is a high-level, general-purpose programming language. Its design philosophy emphasizes code readability with the use of significant indentation\\n\\nPython is dynamically type-checked and garbage-collected. It supports multiple programming paradigms, including structured (particularly procedural), \\nobject-oriented and functional programming. It is often described as a \"batteries included\" language due to its comprehensive standard library.'"
      ]
     },
     "execution_count": 129,
     "metadata": {},
     "output_type": "execute_result"
    }
   ],
   "source": [
    "corpus"
   ]
  },
  {
   "cell_type": "code",
   "execution_count": 130,
   "id": "891f8897",
   "metadata": {},
   "outputs": [
    {
     "data": {
      "text/plain": [
       "['Python',\n",
       " 'is',\n",
       " 'a',\n",
       " 'high-level,',\n",
       " 'general-purpose',\n",
       " 'programming',\n",
       " 'language.',\n",
       " 'Its',\n",
       " 'design',\n",
       " 'philosophy',\n",
       " 'emphasizes',\n",
       " 'code',\n",
       " 'readability',\n",
       " 'with',\n",
       " 'the',\n",
       " 'use',\n",
       " 'of',\n",
       " 'significant',\n",
       " 'indentation',\n",
       " 'Python',\n",
       " 'is',\n",
       " 'dynamically',\n",
       " 'type-checked',\n",
       " 'and',\n",
       " 'garbage-collected.',\n",
       " 'It',\n",
       " 'supports',\n",
       " 'multiple',\n",
       " 'programming',\n",
       " 'paradigms,',\n",
       " 'including',\n",
       " 'structured',\n",
       " '(particularly',\n",
       " 'procedural),',\n",
       " 'object-oriented',\n",
       " 'and',\n",
       " 'functional',\n",
       " 'programming.',\n",
       " 'It',\n",
       " 'is',\n",
       " 'often',\n",
       " 'described',\n",
       " 'as',\n",
       " 'a',\n",
       " '\"batteries',\n",
       " 'included\"',\n",
       " 'language',\n",
       " 'due',\n",
       " 'to',\n",
       " 'its',\n",
       " 'comprehensive',\n",
       " 'standard',\n",
       " 'library.']"
      ]
     },
     "execution_count": 130,
     "metadata": {},
     "output_type": "execute_result"
    }
   ],
   "source": [
    "corpus.split()"
   ]
  },
  {
   "cell_type": "code",
   "execution_count": 133,
   "id": "7601c008",
   "metadata": {},
   "outputs": [
    {
     "data": {
      "text/plain": [
       "'Python is a high-level, general-purpose programming language. Its design philosophy emphasizes code readability with the use of significant indentation\\n\\nPython is dynamically type-checked and garbage-collected. It supports multiple programming paradigms, including structured (particularly procedural), \\nobject-oriented and functional programming. It is often described as a \"batteries included\" language due to its comprehensive standard library.'"
      ]
     },
     "execution_count": 133,
     "metadata": {},
     "output_type": "execute_result"
    }
   ],
   "source": [
    "corpus"
   ]
  },
  {
   "cell_type": "code",
   "execution_count": 134,
   "id": "8fdb703b",
   "metadata": {},
   "outputs": [
    {
     "data": {
      "text/plain": [
       "['Python is a high-level, general-purpose programming language',\n",
       " ' Its design philosophy emphasizes code readability with the use of significant indentation\\n\\nPython is dynamically type-checked and garbage-collected',\n",
       " ' It supports multiple programming paradigms, including structured (particularly procedural), \\nobject-oriented and functional programming',\n",
       " ' It is often described as a \"batteries included\" language due to its comprehensive standard library',\n",
       " '']"
      ]
     },
     "execution_count": 134,
     "metadata": {},
     "output_type": "execute_result"
    }
   ],
   "source": [
    "corpus.split(\".\")"
   ]
  },
  {
   "cell_type": "code",
   "execution_count": 135,
   "id": "ff47dc97",
   "metadata": {},
   "outputs": [
    {
     "data": {
      "text/plain": [
       "'Python is a high-level, general-purpose programming language. Its design philosophy emphasizes code readability with the use of significant indentation\\n\\nPython is dynamically type-checked and garbage-collected. It supports multiple programming paradigms, including structured (particularly procedural), \\nobject-oriented and functional programming. It is often described as a \"batteries included\" language due to its comprehensive standard library.'"
      ]
     },
     "execution_count": 135,
     "metadata": {},
     "output_type": "execute_result"
    }
   ],
   "source": [
    "## join\n",
    "\n",
    "corpus"
   ]
  },
  {
   "cell_type": "code",
   "execution_count": 137,
   "id": "5bfc7541",
   "metadata": {},
   "outputs": [],
   "source": [
    "word_bank=corpus.split()"
   ]
  },
  {
   "cell_type": "code",
   "execution_count": 140,
   "id": "92801d1a",
   "metadata": {},
   "outputs": [
    {
     "data": {
      "text/plain": [
       "'Python is a high-level, general-purpose programming language. Its design philosophy emphasizes code readability with the use of significant indentation Python is dynamically type-checked and garbage-collected. It supports multiple programming paradigms, including structured (particularly procedural), object-oriented and functional programming. It is often described as a \"batteries included\" language due to its comprehensive standard library.'"
      ]
     },
     "execution_count": 140,
     "metadata": {},
     "output_type": "execute_result"
    }
   ],
   "source": [
    "\" \".join(word_bank)"
   ]
  },
  {
   "cell_type": "code",
   "execution_count": 141,
   "id": "de3d0c01",
   "metadata": {},
   "outputs": [
    {
     "data": {
      "text/plain": [
       "'Hello , Welcome  to my Video , I am Prashant'"
      ]
     },
     "execution_count": 141,
     "metadata": {},
     "output_type": "execute_result"
    }
   ],
   "source": [
    "## find \n",
    "\n",
    "text"
   ]
  },
  {
   "cell_type": "code",
   "execution_count": 147,
   "id": "8ca57d59",
   "metadata": {},
   "outputs": [
    {
     "data": {
      "text/plain": [
       "-1"
      ]
     },
     "execution_count": 147,
     "metadata": {},
     "output_type": "execute_result"
    }
   ],
   "source": [
    "text.find(\"welcome\")"
   ]
  },
  {
   "cell_type": "code",
   "execution_count": 145,
   "id": "33a3d5f8",
   "metadata": {},
   "outputs": [
    {
     "ename": "ValueError",
     "evalue": "substring not found",
     "output_type": "error",
     "traceback": [
      "\u001b[1;31m---------------------------------------------------------------------------\u001b[0m",
      "\u001b[1;31mValueError\u001b[0m                                Traceback (most recent call last)",
      "Cell \u001b[1;32mIn[145], line 1\u001b[0m\n\u001b[1;32m----> 1\u001b[0m \u001b[43mtext\u001b[49m\u001b[38;5;241;43m.\u001b[39;49m\u001b[43mindex\u001b[49m\u001b[43m(\u001b[49m\u001b[38;5;124;43m\"\u001b[39;49m\u001b[38;5;124;43mHellow\u001b[39;49m\u001b[38;5;124;43m\"\u001b[39;49m\u001b[43m)\u001b[49m\n",
      "\u001b[1;31mValueError\u001b[0m: substring not found"
     ]
    }
   ],
   "source": [
    "text.index(\"Hellow\")"
   ]
  },
  {
   "cell_type": "code",
   "execution_count": 148,
   "id": "8cb29470",
   "metadata": {},
   "outputs": [
    {
     "data": {
      "text/plain": [
       "'Hello , Welcome  to my Video , I am Prashant'"
      ]
     },
     "execution_count": 148,
     "metadata": {},
     "output_type": "execute_result"
    }
   ],
   "source": [
    "## count\n",
    "\n",
    "text"
   ]
  },
  {
   "cell_type": "code",
   "execution_count": 149,
   "id": "61cb88ae",
   "metadata": {},
   "outputs": [
    {
     "data": {
      "text/plain": [
       "1"
      ]
     },
     "execution_count": 149,
     "metadata": {},
     "output_type": "execute_result"
    }
   ],
   "source": [
    "text.count(\"Welcome\")"
   ]
  },
  {
   "cell_type": "code",
   "execution_count": 150,
   "id": "879c5714",
   "metadata": {},
   "outputs": [
    {
     "data": {
      "text/plain": [
       "'Python is a high-level, general-purpose programming language. Its design philosophy emphasizes code readability with the use of significant indentation\\n\\nPython is dynamically type-checked and garbage-collected. It supports multiple programming paradigms, including structured (particularly procedural), \\nobject-oriented and functional programming. It is often described as a \"batteries included\" language due to its comprehensive standard library.'"
      ]
     },
     "execution_count": 150,
     "metadata": {},
     "output_type": "execute_result"
    }
   ],
   "source": [
    "corpus"
   ]
  },
  {
   "cell_type": "code",
   "execution_count": 152,
   "id": "0d5ec835",
   "metadata": {},
   "outputs": [
    {
     "data": {
      "text/plain": [
       "3"
      ]
     },
     "execution_count": 152,
     "metadata": {},
     "output_type": "execute_result"
    }
   ],
   "source": [
    "corpus.count(\"is\")"
   ]
  },
  {
   "cell_type": "code",
   "execution_count": 153,
   "id": "095a7286",
   "metadata": {},
   "outputs": [],
   "source": [
    "test = \"Hello , Welcome  to my Video , I am Prashant , Hello , Welcome  to my Video , I am Prashant, Hello , Welcome  to my Video , I am Prashant\""
   ]
  },
  {
   "cell_type": "code",
   "execution_count": 156,
   "id": "d6e8704b",
   "metadata": {},
   "outputs": [
    {
     "data": {
      "text/plain": [
       "3"
      ]
     },
     "execution_count": 156,
     "metadata": {},
     "output_type": "execute_result"
    }
   ],
   "source": [
    "test.count(\"Prashant\")"
   ]
  },
  {
   "cell_type": "code",
   "execution_count": null,
   "id": "b8884468",
   "metadata": {},
   "outputs": [],
   "source": [
    "### concatination\n",
    "\n",
    "text = \"I am\"\n",
    "text2 = \"Python Developer\"\n",
    "text3= \"Working is IT\""
   ]
  },
  {
   "cell_type": "code",
   "execution_count": 159,
   "id": "db87ed85",
   "metadata": {},
   "outputs": [
    {
     "data": {
      "text/plain": [
       "'I am PythON Developer Working is IT'"
      ]
     },
     "execution_count": 159,
     "metadata": {},
     "output_type": "execute_result"
    }
   ],
   "source": [
    "text+\" \"+text2+\" \"+text3"
   ]
  },
  {
   "cell_type": "code",
   "execution_count": 163,
   "id": "3d70ea44",
   "metadata": {},
   "outputs": [
    {
     "data": {
      "text/plain": [
       "True"
      ]
     },
     "execution_count": 163,
     "metadata": {},
     "output_type": "execute_result"
    }
   ],
   "source": [
    "## startwith and endwith\n",
    "\n",
    "text.startswith(\"I\")"
   ]
  },
  {
   "cell_type": "code",
   "execution_count": 165,
   "id": "d41dcdc7",
   "metadata": {},
   "outputs": [
    {
     "data": {
      "text/plain": [
       "True"
      ]
     },
     "execution_count": 165,
     "metadata": {},
     "output_type": "execute_result"
    }
   ],
   "source": [
    "text.endswith(\"am\")"
   ]
  },
  {
   "cell_type": "code",
   "execution_count": null,
   "id": "a35f7f30",
   "metadata": {},
   "outputs": [],
   "source": []
  },
  {
   "cell_type": "code",
   "execution_count": null,
   "id": "980c2897",
   "metadata": {},
   "outputs": [],
   "source": []
  },
  {
   "cell_type": "code",
   "execution_count": null,
   "metadata": {},
   "outputs": [],
   "source": []
  },
  {
   "cell_type": "code",
   "execution_count": null,
   "metadata": {},
   "outputs": [],
   "source": []
  }
 ],
 "metadata": {
  "kernelspec": {
   "display_name": "base",
   "language": "python",
   "name": "python3"
  },
  "language_info": {
   "codemirror_mode": {
    "name": "ipython",
    "version": 3
   },
   "file_extension": ".py",
   "mimetype": "text/x-python",
   "name": "python",
   "nbconvert_exporter": "python",
   "pygments_lexer": "ipython3",
   "version": "3.12.7"
  }
 },
 "nbformat": 4,
 "nbformat_minor": 5
}
