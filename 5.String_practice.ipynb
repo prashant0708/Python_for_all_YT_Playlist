{
 "cells": [
  {
   "cell_type": "markdown",
   "id": "4822ac9b",
   "metadata": {},
   "source": [
    "1. Write a program to take input from user as name and return the length of it."
   ]
  },
  {
   "cell_type": "code",
   "execution_count": 2,
   "id": "0374d692",
   "metadata": {},
   "outputs": [
    {
     "name": "stdout",
     "output_type": "stream",
     "text": [
      "Length of Prashant is 8\n"
     ]
    }
   ],
   "source": [
    "name = input(\"Enter the name =  \")\n",
    "\n",
    "lent = len(name)\n",
    "\n",
    "print(f\"Length of {name} is {lent}\")"
   ]
  },
  {
   "cell_type": "markdown",
   "id": "4d611309",
   "metadata": {},
   "source": [
    "2.  Create a program that takes a user's full name and formats it properly (first letter of each word capitalized, rest lowercase)."
   ]
  },
  {
   "cell_type": "code",
   "execution_count": 3,
   "id": "17015db0",
   "metadata": {},
   "outputs": [
    {
     "name": "stdout",
     "output_type": "stream",
     "text": [
      "Entered name is  prashant kumar singh\n",
      "Filtered name is  Prashant Kumar Singh\n"
     ]
    }
   ],
   "source": [
    "name = input(\"Enter the full name =\")\n",
    "name_filtered = name.title()\n",
    "\n",
    "print(\"Entered name is \", name)\n",
    "print(\"Filtered name is \", name_filtered)"
   ]
  },
  {
   "cell_type": "markdown",
   "id": "0dee7529",
   "metadata": {},
   "source": [
    "3. Write a program to take a name as input and display it in both uppercase and lowercase versions."
   ]
  },
  {
   "cell_type": "code",
   "execution_count": 4,
   "id": "f72f44cb",
   "metadata": {},
   "outputs": [
    {
     "name": "stdout",
     "output_type": "stream",
     "text": [
      "Uppercase name is  PRASHANT KUMAR SINGH\n",
      "lowercase name is  prashant kumar singh\n"
     ]
    }
   ],
   "source": [
    "name   = input(\"Enter your full name \")\n",
    "\n",
    "uppercase_name = name.upper()\n",
    "lowercase_name = name.lower()\n",
    "\n",
    "print(\"Uppercase name is \", uppercase_name)\n",
    "print(\"lowercase name is \", lowercase_name)"
   ]
  },
  {
   "cell_type": "markdown",
   "id": "d7b9e39b",
   "metadata": {},
   "source": [
    "4. Write a program to  take first name and last name as separate inputs, then join them with a space to create full name."
   ]
  },
  {
   "cell_type": "code",
   "execution_count": 6,
   "id": "5cb35a2d",
   "metadata": {},
   "outputs": [
    {
     "name": "stdout",
     "output_type": "stream",
     "text": [
      "full name of the user is  Prashant Singh\n"
     ]
    }
   ],
   "source": [
    "first_name = input(\"Enter your first name = \").title()\n",
    "\n",
    "last_name = input(\"Enter your last name = \").title()\n",
    "\n",
    "full_name = first_name+\" \"+last_name\n",
    "\n",
    "print(\"full name of the user is \", full_name)"
   ]
  },
  {
   "cell_type": "markdown",
   "id": "0fd4e41f",
   "metadata": {},
   "source": [
    "5. Write a Python program to  Take first name and last name, then display the first character of each (using string indexing like name[0])."
   ]
  },
  {
   "cell_type": "code",
   "execution_count": 7,
   "id": "3f52e5ae",
   "metadata": {},
   "outputs": [
    {
     "name": "stdout",
     "output_type": "stream",
     "text": [
      "first character of the first name is  P\n",
      "first character of the last name is S\n"
     ]
    }
   ],
   "source": [
    "first_name = input(\"Enter your first name = \").title()\n",
    "\n",
    "last_name = input(\"Enter your last name = \").title()\n",
    "\n",
    "first_character_first_name = first_name[0]\n",
    "first_character_last_name  = last_name[0]\n",
    "\n",
    "print(\"first character of the first name is \",first_character_first_name)\n",
    "print(\"first character of the last name is\",first_character_last_name)"
   ]
  },
  {
   "cell_type": "markdown",
   "id": "bd4bec75",
   "metadata": {},
   "source": [
    "6. Write a Python program to take an email address and use string methods to extract the username part (before @) and domain part (after @) using split('@')."
   ]
  },
  {
   "cell_type": "code",
   "execution_count": 8,
   "id": "18ba73e0",
   "metadata": {},
   "outputs": [
    {
     "name": "stdout",
     "output_type": "stream",
     "text": [
      "User email is  prashant.singh@gmail.com\n",
      "splited_email is  ['prashant.singh', 'gmail.com']\n",
      "user_name is  prashant.singh\n",
      "Domain name is gmail.com\n"
     ]
    }
   ],
   "source": [
    "email = input(\"Enter your email id \")\n",
    "\n",
    "splited_email=email.split('@')\n",
    "\n",
    "user_name = splited_email[0]\n",
    "domain_name = splited_email[1]\n",
    "\n",
    "print(\"User email is \" , email)\n",
    "print(\"splited_email is \", splited_email)\n",
    "print(\"user_name is \", user_name)\n",
    "print(\"Domain name is\", domain_name)"
   ]
  },
  {
   "cell_type": "markdown",
   "id": "ebf6b3e2",
   "metadata": {},
   "source": [
    "7. Write a Python program to take a sentence and use split() to break it into words, then display the length of the resulting list."
   ]
  },
  {
   "cell_type": "code",
   "execution_count": 9,
   "id": "727b0388",
   "metadata": {},
   "outputs": [
    {
     "name": "stdout",
     "output_type": "stream",
     "text": [
      "Orginal corpus is Python is awsome , I am happy to teach python to you\n",
      "Original corpus length is  52\n",
      "Words are  ['Python', 'is', 'awsome', ',', 'I', 'am', 'happy', 'to', 'teach', 'python', 'to', 'you']\n",
      "Words length is  12\n"
     ]
    }
   ],
   "source": [
    "corpus = input(\"Enter your  Sentence\")\n",
    "\n",
    "words = corpus.split()\n",
    "\n",
    "print('Orginal corpus is',corpus )\n",
    "print(\"Original corpus length is \" , len(corpus))\n",
    "print(\"Words are \", words)\n",
    "print(\"Words length is \", len(words))"
   ]
  },
  {
   "cell_type": "markdown",
   "id": "adcc24bb",
   "metadata": {},
   "source": [
    "8. Write a Python program to take a word and a number as input, then display the word repeated that many times (using string multiplication like word * number)."
   ]
  },
  {
   "cell_type": "code",
   "execution_count": 14,
   "id": "5bb08660",
   "metadata": {},
   "outputs": [
    {
     "name": "stdout",
     "output_type": "stream",
     "text": [
      "Words python\n",
      "Multiply: python python python python python python python python python python \n"
     ]
    }
   ],
   "source": [
    "words = input(\"Enter your words \")\n",
    "\n",
    "number = int(input(\"Enter your number \"))\n",
    "\n",
    "multiply = (words+\" \")*number\n",
    "\n",
    "print(\"Words\",words)\n",
    "print(\"Multiply:\", multiply)"
   ]
  },
  {
   "cell_type": "markdown",
   "id": "f2eff092",
   "metadata": {},
   "source": []
  },
  {
   "cell_type": "markdown",
   "id": "0bf7babb",
   "metadata": {},
   "source": [
    "9. Write a Python program to take a messy name input (mixed case, extra spaces) and display the clean version using combination of strip(), title() \n",
    "or capitalize()."
   ]
  },
  {
   "cell_type": "code",
   "execution_count": 15,
   "id": "0543edc5",
   "metadata": {},
   "outputs": [
    {
     "name": "stdout",
     "output_type": "stream",
     "text": [
      "   PrShant KuMaR SinGH     \n",
      "Prshant Kumar Singh\n"
     ]
    }
   ],
   "source": [
    "name = input(\"Enter your name \")\n",
    "\n",
    "filtered_name = name.strip()\n",
    "filtered_name = filtered_name.title()\n",
    "\n",
    "print(name)\n",
    "print(filtered_name)\n",
    "\n"
   ]
  },
  {
   "cell_type": "markdown",
   "id": "94c080d7",
   "metadata": {},
   "source": [
    "10. Write a Python program to Take make sentence from a list of words, using join().\n",
    "words = [\"Python\", \"is\", \"awesome\", \"I\" , \"am\", \"glade\", \"that\", \"I\",\"am\",\"learning\"]\n"
   ]
  },
  {
   "cell_type": "code",
   "execution_count": 21,
   "id": "264f594c",
   "metadata": {},
   "outputs": [
    {
     "name": "stdout",
     "output_type": "stream",
     "text": [
      "['Python', 'is', 'awesome', 'I', 'am', 'glade', 'that', 'I', 'am', 'learning']\n",
      "Python is awesome I am glade that I am learning\n"
     ]
    }
   ],
   "source": [
    "words = [\"Python\", \"is\", \"awesome\", \"I\" , \"am\", \"glade\", \"that\", \"I\",\"am\",\"learning\"]\n",
    "\n",
    "flag = \" \"\n",
    "sentence=flag.join(words)\n",
    "\n",
    "print(words)\n",
    "print(sentence)"
   ]
  },
  {
   "cell_type": "code",
   "execution_count": null,
   "id": "d253e8a5",
   "metadata": {},
   "outputs": [],
   "source": [
    "user_name =\"admin\"\n",
    "password  = \"admin123\"\n",
    "Balance = 5000\n",
    "\n",
    "if (user_name == \"admin\") & (password ==\"admin123\"):\n",
    "    print(\"Welcome to XYZ BANK\")\n",
    "    print(\"Enter 1 for Balance check \",\n",
    "          \"\\n\"\n",
    "          \"Enter 2 for Amount withdraw\" \n",
    "          \"\\n\"\n",
    "          \"Enter 3 for Amount deposit\")\n",
    "    user_input = input (\"Enter you choise \")\n",
    "    if user_input==\"1\":\n",
    "        print(f\"Your account balance is {Balance}\")\n",
    "    elif user_input == \"2\":\n",
    "        print(\"Enter the amount to withdraw\")\n",
    "        amount= float(input(\"Enter the amount = \"))\n",
    "        print(\"Processing your amount\")\n",
    "        if amount <= Balance:\n",
    "            print(\"collect your amount\",amount)\n",
    "            Balance -= amount\n",
    "            print(\"Balance amount is \", Balance)\n",
    "        else:\n",
    "            print(\"Insufficient balance\")\n",
    "    elif user_input ==\"3\":\n",
    "        print(\"Enter your amount to deposit \")\n",
    "        amount = float(input(\"enter the amount= \"))\n",
    "        print(\"Processing your request\")\n",
    "        print(\"Amount Deposited !\")\n",
    "        Balance+=amount\n",
    "        print(f\"Available Balance is {Balance}\")\n",
    "        "
   ]
  }
 ],
 "metadata": {
  "kernelspec": {
   "display_name": "base",
   "language": "python",
   "name": "python3"
  },
  "language_info": {
   "codemirror_mode": {
    "name": "ipython",
    "version": 3
   },
   "file_extension": ".py",
   "mimetype": "text/x-python",
   "name": "python",
   "nbconvert_exporter": "python",
   "pygments_lexer": "ipython3",
   "version": "3.12.7"
  }
 },
 "nbformat": 4,
 "nbformat_minor": 5
}
