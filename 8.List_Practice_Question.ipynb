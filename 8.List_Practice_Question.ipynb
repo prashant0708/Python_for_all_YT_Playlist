{
 "cells": [
  {
   "cell_type": "markdown",
   "id": "fc3b87af-f1ce-411e-a9ab-3c838a858023",
   "metadata": {},
   "source": [
    "## Access the third element of the list"
   ]
  },
  {
   "cell_type": "code",
   "execution_count": 14,
   "id": "54743651-24fa-4fe2-9679-e4d1ba59e71e",
   "metadata": {},
   "outputs": [
    {
     "data": {
      "text/plain": [
       "23"
      ]
     },
     "execution_count": 14,
     "metadata": {},
     "output_type": "execute_result"
    }
   ],
   "source": [
    "l = [ 56,46,23,\"Delhi\", \"AWS\",\"AZURE\", 45+7J]\n",
    "\n",
    "l[2]\n",
    "\n"
   ]
  },
  {
   "cell_type": "markdown",
   "id": "66c9a7ca-604e-4c89-840e-6139ee0c52ad",
   "metadata": {},
   "source": [
    "## check if list is empty"
   ]
  },
  {
   "cell_type": "code",
   "execution_count": 19,
   "id": "4e7ef2d0-659b-48bb-bbb2-3ad79cf120ca",
   "metadata": {},
   "outputs": [
    {
     "name": "stdout",
     "output_type": "stream",
     "text": [
      "List is empty\n"
     ]
    }
   ],
   "source": [
    "l1 = [\"Data Analyst\",\"Data Science\",\"Gen ai\"]\n",
    "\n",
    "l2 = []\n",
    "\n",
    "if not l2:\n",
    "    print(\"List is empty\")\n",
    "else:\n",
    "    print(\"List is not empty\")\n",
    "\n",
    "\n"
   ]
  },
  {
   "cell_type": "markdown",
   "id": "e0cad6bd-8087-46d1-a207-d207146368f0",
   "metadata": {},
   "source": [
    "## Check if 3rd Element of the list is int"
   ]
  },
  {
   "cell_type": "code",
   "execution_count": 22,
   "id": "ced5000e-aab3-48d3-aa59-517f05285db2",
   "metadata": {},
   "outputs": [
    {
     "name": "stdout",
     "output_type": "stream",
     "text": [
      "3rd element of the list is int\n"
     ]
    }
   ],
   "source": [
    "l = [ 56,46,23,\"Delhi\", \"AWS\",\"AZURE\", 45+7J]\n",
    "\n",
    "\n",
    "if type(l[2])== int:\n",
    "    print(\"3rd element of the list is int\")\n",
    "else:\n",
    "     print(\"3rd element of the list is not int\")\n",
    "\n"
   ]
  },
  {
   "cell_type": "markdown",
   "id": "a4d7ca01-f41d-4fe9-a519-56ffa40d02cd",
   "metadata": {},
   "source": [
    "## Consider the length of the list is 10, access elements from 6 to 8."
   ]
  },
  {
   "cell_type": "code",
   "execution_count": 24,
   "id": "c7e879af-fb03-4de4-a72c-44777d0b55f3",
   "metadata": {},
   "outputs": [
    {
     "data": {
      "text/plain": [
       "[70, 80, 90]"
      ]
     },
     "execution_count": 24,
     "metadata": {},
     "output_type": "execute_result"
    }
   ],
   "source": [
    "my_list = [10, 20, 30, 40, 50, 60, 70, 80, 90, 100]\n",
    "\n",
    "my_list[6:9]\n"
   ]
  },
  {
   "cell_type": "markdown",
   "id": "43b77948-b39f-42d3-88a0-3a021a973d2d",
   "metadata": {},
   "source": [
    "## Reverse a list"
   ]
  },
  {
   "cell_type": "code",
   "execution_count": 25,
   "id": "f6677cb9-545e-4076-8336-84a9fab029cc",
   "metadata": {},
   "outputs": [
    {
     "data": {
      "text/plain": [
       "[(45+7j), 'AZURE', 'AWS', 'Delhi', 23, 46, 56]"
      ]
     },
     "execution_count": 25,
     "metadata": {},
     "output_type": "execute_result"
    }
   ],
   "source": [
    "l = [ 56,46,23,\"Delhi\", \"AWS\",\"AZURE\", 45+7J]\n",
    "\n",
    "\n",
    "l[::-1]\n",
    "\n"
   ]
  },
  {
   "cell_type": "markdown",
   "id": "c152f112-975d-4cd6-b23d-11f74184e1bc",
   "metadata": {},
   "source": [
    "## count occurrences of an item"
   ]
  },
  {
   "cell_type": "code",
   "execution_count": 29,
   "id": "051cf1d6-e0ea-486b-89b5-be10a2180395",
   "metadata": {},
   "outputs": [
    {
     "data": {
      "text/plain": [
       "1"
      ]
     },
     "execution_count": 29,
     "metadata": {},
     "output_type": "execute_result"
    }
   ],
   "source": [
    "l3=[45,45,67,67,\"AWS\",\"AWS\",\"Mlops\"]\n",
    "\n",
    "\n",
    "l3.count(\"Mlops\")\n",
    "\n"
   ]
  },
  {
   "cell_type": "markdown",
   "id": "ed8fa0dd-138f-4f91-9775-b55e41f3db62",
   "metadata": {},
   "source": [
    "## Access elements in nested lists"
   ]
  },
  {
   "cell_type": "code",
   "execution_count": 33,
   "id": "4eeb3816-f621-4fd1-b86b-65a6518f6925",
   "metadata": {},
   "outputs": [
    {
     "data": {
      "text/plain": [
       "[34, 'Bangalore', 'Delhi', 'SQL', 'Mongodb']"
      ]
     },
     "execution_count": 33,
     "metadata": {},
     "output_type": "execute_result"
    }
   ],
   "source": [
    "l4 = [45,45,67,67,\"AWS\",\"AWS\",\"Mlops\",[34,\"Bangalore\",\"Delhi\",\"SQL\",\"Mongodb\"]]\n",
    "\n",
    "l4[-1]\n",
    "\n"
   ]
  },
  {
   "cell_type": "markdown",
   "id": "9cd1a313-1c17-4a32-89d5-272054515034",
   "metadata": {},
   "source": [
    "## Print every 2nd Element of the list"
   ]
  },
  {
   "cell_type": "code",
   "execution_count": 36,
   "id": "aae1dde2-f254-4110-af6a-d11b6409bf3e",
   "metadata": {},
   "outputs": [
    {
     "data": {
      "text/plain": [
       "[36, 67, 'AWS', 'Mlops']"
      ]
     },
     "execution_count": 36,
     "metadata": {},
     "output_type": "execute_result"
    }
   ],
   "source": [
    "l4 = [36,45,67,99,\"AWS\",\"AWS\",\"Mlops\",[34,\"Bangalore\",\"Delhi\",\"SQL\",\"Mongodb\"]]\n",
    "\n",
    "\n",
    "l4[::2]\n",
    "\n",
    "\n",
    "\n"
   ]
  },
  {
   "cell_type": "markdown",
   "id": "2c0e7ade-1436-4366-9446-ad76b533667c",
   "metadata": {},
   "source": [
    "## Print every 2nd Element of the list in the nested list"
   ]
  },
  {
   "cell_type": "code",
   "execution_count": 38,
   "id": "39aa44d7-00b7-4cfe-85e2-abef1257aa98",
   "metadata": {},
   "outputs": [
    {
     "data": {
      "text/plain": [
       "[34, 'Delhi', 'Mongodb']"
      ]
     },
     "execution_count": 38,
     "metadata": {},
     "output_type": "execute_result"
    }
   ],
   "source": [
    "l4 = [36,45,67,99,\"AWS\",\"AWS\",\"Mlops\",[34,\"Bangalore\",\"Delhi\",\"SQL\",\"Mongodb\"]]\n",
    "\n",
    "\n",
    "l4[-1][::2]\n"
   ]
  },
  {
   "cell_type": "markdown",
   "id": "0214240f-1a50-4b78-bebd-142af1d1f133",
   "metadata": {},
   "source": [
    "## flatten nested lists"
   ]
  },
  {
   "cell_type": "code",
   "execution_count": 39,
   "id": "59ad438c-ab6f-4d8a-a5b3-3a98c5d27629",
   "metadata": {},
   "outputs": [],
   "source": [
    "l4 = [36,45,67,99,\"AWS\",\"AWS\",\"Mlops\",[34,\"Bangalore\",\"Delhi\",\"SQL\",\"Mongodb\"]]\n",
    "\n",
    "\n",
    "nested_list = l4.pop(-1)\n",
    "\n"
   ]
  },
  {
   "cell_type": "code",
   "execution_count": 40,
   "id": "60e24966",
   "metadata": {},
   "outputs": [
    {
     "data": {
      "text/plain": [
       "[36, 45, 67, 99, 'AWS', 'AWS', 'Mlops']"
      ]
     },
     "execution_count": 40,
     "metadata": {},
     "output_type": "execute_result"
    }
   ],
   "source": [
    "l4"
   ]
  },
  {
   "cell_type": "code",
   "execution_count": 41,
   "id": "69c7426d",
   "metadata": {},
   "outputs": [
    {
     "data": {
      "text/plain": [
       "[34, 'Bangalore', 'Delhi', 'SQL', 'Mongodb']"
      ]
     },
     "execution_count": 41,
     "metadata": {},
     "output_type": "execute_result"
    }
   ],
   "source": [
    "nested_list"
   ]
  },
  {
   "cell_type": "code",
   "execution_count": 43,
   "id": "2ad5be41",
   "metadata": {},
   "outputs": [],
   "source": [
    "l4.extend(nested_list)"
   ]
  },
  {
   "cell_type": "code",
   "execution_count": 44,
   "id": "7b5a83e5",
   "metadata": {},
   "outputs": [
    {
     "data": {
      "text/plain": [
       "[36,\n",
       " 45,\n",
       " 67,\n",
       " 99,\n",
       " 'AWS',\n",
       " 'AWS',\n",
       " 'Mlops',\n",
       " 34,\n",
       " 'Bangalore',\n",
       " 'Delhi',\n",
       " 'SQL',\n",
       " 'Mongodb']"
      ]
     },
     "execution_count": 44,
     "metadata": {},
     "output_type": "execute_result"
    }
   ],
   "source": [
    "l4"
   ]
  },
  {
   "cell_type": "code",
   "execution_count": null,
   "id": "5086078a",
   "metadata": {},
   "outputs": [],
   "source": []
  }
 ],
 "metadata": {
  "kernelspec": {
   "display_name": "base",
   "language": "python",
   "name": "python3"
  },
  "language_info": {
   "codemirror_mode": {
    "name": "ipython",
    "version": 3
   },
   "file_extension": ".py",
   "mimetype": "text/x-python",
   "name": "python",
   "nbconvert_exporter": "python",
   "pygments_lexer": "ipython3",
   "version": "3.12.7"
  }
 },
 "nbformat": 4,
 "nbformat_minor": 5
}
